{
  "nbformat": 4,
  "nbformat_minor": 0,
  "metadata": {
    "colab": {
      "provenance": [],
      "include_colab_link": true
    },
    "kernelspec": {
      "name": "python3",
      "display_name": "Python 3"
    },
    "language_info": {
      "name": "python"
    }
  },
  "cells": [
    {
      "cell_type": "markdown",
      "metadata": {
        "id": "view-in-github",
        "colab_type": "text"
      },
      "source": [
        "<a href=\"https://colab.research.google.com/github/DmitriyBRM/practice-aia-2024/blob/main/%D0%9F%D1%80%D0%B0%D0%BA%D1%82%D0%B8%D0%BA%D0%B0_0_6_0_.ipynb\" target=\"_parent\"><img src=\"https://colab.research.google.com/assets/colab-badge.svg\" alt=\"Open In Colab\"/></a>"
      ]
    },
    {
      "cell_type": "markdown",
      "source": [
        "\n",
        "\n",
        "---\n",
        "\n"
      ],
      "metadata": {
        "id": "tKNG_RzWxG6g"
      }
    },
    {
      "cell_type": "markdown",
      "source": [
        "# **Дисклеймер**\n",
        "\n",
        "В данной практике будет введен дополнительный критерий: чистота и читаемость кода, а также соблюдение правил описанных в начале практики"
      ],
      "metadata": {
        "id": "cFcrKfclKWh0"
      }
    },
    {
      "cell_type": "markdown",
      "source": [
        "\n",
        "\n",
        "---\n",
        "\n"
      ],
      "metadata": {
        "id": "0SnE87X1xDlV"
      }
    },
    {
      "cell_type": "markdown",
      "source": [
        "# Задание 1\n",
        "\n",
        "**Задача:**\n",
        "\n",
        "Напишите функцию очищающий список от дубликтов\n",
        "\n",
        "\n",
        "*Запрещено:*\n",
        "\n",
        "*   Использовать set() или готовые функции очищающие список от дубликатов\n",
        "\n",
        "Вввод:\n",
        "\n",
        "```\n",
        "apple banana apple 1 3 4 4 5\n",
        "```\n",
        "\n",
        "\n",
        "Вывод:\n",
        "\n",
        "```\n",
        "apple banana 1 3 4 5\n",
        "```\n",
        "\n"
      ],
      "metadata": {
        "id": "VxawR9NubT_F"
      }
    },
    {
      "cell_type": "code",
      "source": [
        "list1 = (input('введите значения:')).split()\n",
        "list_unic = []\n",
        "\n",
        "\n",
        "for i in list1:\n",
        "    if i not in list_unic:\n",
        "        list_unic.append(i)\n",
        "\n",
        "\n",
        "print(list_unic)"
      ],
      "metadata": {
        "id": "ml5gnbPXbeju",
        "colab": {
          "base_uri": "https://localhost:8080/"
        },
        "outputId": "e31ed182-66c1-4c24-9cd1-e1385c689c34"
      },
      "execution_count": null,
      "outputs": [
        {
          "output_type": "stream",
          "name": "stdout",
          "text": [
            "введите значения:1 1 1 1 1 1 11 2 3 4 5 6 5 \n",
            "['1', '11', '2', '3', '4', '5', '6']\n"
          ]
        }
      ]
    },
    {
      "cell_type": "markdown",
      "source": [
        "# Задание 2\n",
        "\n",
        "**Задача:**\n",
        "\n",
        "Написать функцию для нахождения простых чисел в диапазоне\n",
        "\n",
        "Ввод:\n",
        "\n",
        "```\n",
        "10, 50\n",
        "```\n",
        "\n",
        "Вывод:\n",
        "\n",
        "```\n",
        "11, 13, 17, 19, 23, 29, 31, 37, 41, 43, 47\n",
        "```"
      ],
      "metadata": {
        "id": "y05x0eD0cVCC"
      }
    },
    {
      "cell_type": "code",
      "source": [
        "diapason = (input('введите диапазон: ')).split(', ')\n",
        "\n",
        "\n",
        "\n",
        "for number in range(int(diapason[0]), int(diapason[1])):\n",
        "    k = 0\n",
        "    l = 0\n",
        "\n",
        "    for divis in range(2, number-1):\n",
        "        k+= 1\n",
        "        if number%divis == 0:\n",
        "            l+= 0\n",
        "        else:\n",
        "            l+= 1\n",
        "    if l == k:\n",
        "        print(number, end= ' ')"
      ],
      "metadata": {
        "id": "XSMJnLgrc6Bf",
        "colab": {
          "base_uri": "https://localhost:8080/"
        },
        "outputId": "abfb3b06-8482-4b47-97f6-6b103acd62f4"
      },
      "execution_count": null,
      "outputs": [
        {
          "output_type": "stream",
          "name": "stdout",
          "text": [
            "введите диапазон: 10, 50\n",
            "11 13 17 19 23 29 31 37 41 43 47 "
          ]
        }
      ]
    },
    {
      "cell_type": "markdown",
      "source": [
        "# Задание 3\n",
        "\n",
        "Напишите функцию для объединения двух списков (список ключей и список значении) в словарь\n",
        "\n",
        "*Запрещено:*\n",
        "\n",
        "*   Использования готовых функции для объединения списков (пример: zip() )\n",
        "\n",
        "Дано:\n",
        "\n",
        "```\n",
        "keys = ['a', 'b', 'c', 'e' ]\n",
        "values = [1, 2, 3, 4]\n",
        "```\n",
        "\n",
        "Вывод:\n",
        "```\n",
        "{'a': 1, 'b': 2, 'c': 3, 'e': 4}\n",
        "```\n",
        "\n",
        "\n"
      ],
      "metadata": {
        "id": "vYM0LyxxdElN"
      }
    },
    {
      "cell_type": "code",
      "source": [
        "keys = ['a', 'b', 'c', 'e' ]\n",
        "values = [1, 2, 3, 4]\n",
        "dictionary = {}\n",
        "\n",
        "\n",
        "for k in keys:\n",
        "    dictionary[k] = values[keys.index(k)]\n",
        "\n",
        "\n",
        "print(dictionary)"
      ],
      "metadata": {
        "id": "CRvhHTjCdvjS",
        "colab": {
          "base_uri": "https://localhost:8080/"
        },
        "outputId": "8ab02cc2-70a1-4352-f39c-57fdfd47e6d4"
      },
      "execution_count": null,
      "outputs": [
        {
          "output_type": "stream",
          "name": "stdout",
          "text": [
            "{'a': 1, 'b': 2, 'c': 3, 'e': 4}\n"
          ]
        }
      ]
    },
    {
      "cell_type": "markdown",
      "source": [
        "# Задание 4\n",
        "\n",
        "Напишите функцию(ии) для подсчета статистических параметров:\n",
        "*   Сумму\n",
        "*   Среднее арифметическое\n",
        "*   Медиану\n",
        "*   Моду\n",
        "\n",
        "\n",
        "*Запрещено:*\n",
        "\n",
        "*   sum()\n",
        "*   sorted()\n",
        "*   и других функции предоставляющих готовое решение задания\n",
        "\n",
        "Дано:\n",
        "\n",
        "```\n",
        "numbers = [1, 2, 2, 3, 4, 5, 6, 7, 8 ,9 ,10]\n",
        "\n",
        "```\n",
        "\n",
        "Вывод:\n",
        "```\n",
        "{'mean': 5.181818181818182, 'median': 5, 'mode': 2, 'sum': 57}\n",
        "```\n"
      ],
      "metadata": {
        "id": "L_w8H8i-fQcP"
      }
    },
    {
      "cell_type": "code",
      "source": [
        "numbers = [1, 2, 2, 3, 4, 5, 6, 7, 8 ,9 ,10]\n",
        "amount = 0\n",
        "average = 0\n",
        "\n",
        "\n",
        "def f_moda(numbers):\n",
        "    numbers2 = numbers\n",
        "    k = 0\n",
        "    moda = 0\n",
        "    num_ref = 0\n",
        "    for n1 in numbers2:\n",
        "            for n2 in numbers:\n",
        "                  if n1 == n2:\n",
        "                    k+= 1\n",
        "            if k > num_ref:\n",
        "                num_ref = k\n",
        "                k = 0\n",
        "                moda = n1\n",
        "            else:\n",
        "                 k = 0\n",
        "    return moda\n",
        "\n",
        "\n",
        "\n",
        "for number in numbers:\n",
        "    amount+= number\n",
        "\n",
        "average = amount/(len(numbers))\n",
        "\n",
        "median = numbers[(len(numbers)//2)]\n",
        "\n",
        "print('сумма:', amount, ', средннее арифмитическое:', average, ', медиана:',\n",
        "      median,', мода:', f_moda(numbers))\n",
        "\n",
        "\n",
        "\n"
      ],
      "metadata": {
        "id": "dW6jW_rjfuba",
        "colab": {
          "base_uri": "https://localhost:8080/"
        },
        "outputId": "3287354e-763b-45d1-f205-d4bc8cdb9d6c"
      },
      "execution_count": null,
      "outputs": [
        {
          "output_type": "stream",
          "name": "stdout",
          "text": [
            "сумма: 57 , средннее арифмитическое: 5.181818181818182 , медиана: 5 , мода: 2\n"
          ]
        }
      ]
    },
    {
      "cell_type": "markdown",
      "source": [
        "# Задание 5\n",
        "\n",
        "На ввод поступает строка символов. Строка состоит из слов, которые отделены друг от друга пробелами. Необходимо вывести самое длинное слово и его порядковый номер.\n",
        "\n",
        "*Запрещено:*\n",
        "\n",
        "*   len()\n",
        "\n",
        "Дано:\n",
        "\n",
        "```\n",
        "Страдание и боль всегда обязательны для широкого сознания и глубокого сердца.\n",
        "\n",
        "```\n",
        "\n",
        "Вывод:\n",
        "```\n",
        "Самое длинное слово с номером 5: обязательны\n",
        "```"
      ],
      "metadata": {
        "id": "hZW0NZ7SgTcp"
      }
    },
    {
      "cell_type": "code",
      "source": [
        "strinG = 'Страдание и боль всегда обязательны \\\n",
        "для широкого сознания и глубокого сердца.'\n",
        "\n",
        "strinG = strinG.split()\n",
        "\n",
        "max_num_letter = 0\n",
        "\n",
        "max_long_word = None\n",
        "\n",
        "\n",
        "for word in strinG:\n",
        "    num_letter = 0\n",
        "\n",
        "    for letter in word:\n",
        "        num_letter+= 1\n",
        "\n",
        "    if num_letter > max_num_letter:\n",
        "        max_num_letter = num_letter\n",
        "        num_letter = 0\n",
        "        max_long_word = word\n",
        "    else:\n",
        "        num_letter = 0\n",
        "\n",
        "\n",
        "print(f'самое длинное слово с номером {strinG.index(max_long_word) + 1}:\\\n",
        " {(max_long_word)}')\n"
      ],
      "metadata": {
        "id": "rC5DpHHLsDYp",
        "colab": {
          "base_uri": "https://localhost:8080/"
        },
        "outputId": "eba33338-4c52-4f7a-d346-32c53517fddb"
      },
      "execution_count": null,
      "outputs": [
        {
          "output_type": "stream",
          "name": "stdout",
          "text": [
            "самое длинное слово с номером 5: обязательны\n"
          ]
        }
      ]
    },
    {
      "cell_type": "code",
      "source": [],
      "metadata": {
        "id": "X7yPsmgdPlEW"
      },
      "execution_count": null,
      "outputs": []
    },
    {
      "cell_type": "markdown",
      "source": [
        "# Задание 6\n",
        "\n",
        "Напишите программу, для управления оценками студентов, со следующими функциями:\n",
        "\n",
        "* Добавление информации о студенте и его оценках.\n",
        "* Подсчет среднего балла студента.\n",
        "* Получение списка всех студентов с их средними баллами.\n",
        "* Поиск студента по имени и вывод его оценок и среднего балла.\n",
        "\n",
        "\n",
        "\n"
      ],
      "metadata": {
        "id": "k5BzJW5ZeaQN"
      }
    },
    {
      "cell_type": "code",
      "source": [
        "students = {}\n",
        "\n",
        "\n",
        "def add_review(name, grade):\n",
        "    grade = int(grade)\n",
        "\n",
        "    if name not in students:\n",
        "        students[name ] = []\n",
        "\n",
        "    students[name].append({'оценка': grade})\n",
        "\n",
        "\n",
        "def view_grade(name ):\n",
        "    k = 0\n",
        "\n",
        "    if name  not in students or not students[name]:\n",
        "        print(f\"нет оценок.\")\n",
        "\n",
        "    else:\n",
        "        for name in students[name]:\n",
        "            print(f\"{k}) оценка: {name['оценка']} \")\n",
        "            k+= 1\n",
        "\n",
        "\n",
        "def view_all_grade():\n",
        "    print(students)\n",
        "    for name in students:\n",
        "        print(name)\n",
        "        for one in students[name]:\n",
        "            print(f' {one[\"оценка\"]}')\n",
        "\n",
        "\n",
        "def delete_grade(name , number):\n",
        "    if  number >= len(students[name ]):\n",
        "        print(\"неправильно введен номер\")\n",
        "\n",
        "    else:\n",
        "        students[name ].pop(number)\n",
        "\n",
        "\n",
        "def calculate_average_rating(name):\n",
        "    if name  not in students or not students[name ]:\n",
        "        print(f\"нет оценок для {name }.\")\n",
        "\n",
        "    else:\n",
        "        all_grade = 0\n",
        "\n",
        "        for review in students[name]:\n",
        "            all_grade += review['оценка']\n",
        "\n",
        "        average_rating = all_grade / len(students[name])\n",
        "        print(f\"средния балл для {name} -  {average_rating:.2f}\")\n",
        "\n",
        "\n",
        "choice = None\n",
        "\n",
        "while choice != 6:\n",
        "    print(\"1) добавить оценку\")\n",
        "    print(\"2) посмотреть оценки\")\n",
        "    print(\"3) удалить оценку\")\n",
        "    print('4) просмотр всех студентов')\n",
        "    print(\"5) средний балл по имени\")\n",
        "    print(\"6) выход\")\n",
        "\n",
        "    choice = input(\"выберете действие: \")\n",
        "\n",
        "    if choice == '1':\n",
        "        name  = input(\"введите имя: \")\n",
        "        grade = int(input(\"введите оценку: \"))\n",
        "\n",
        "        if 1 <= grade <= 5: # проверка правильности оценки\n",
        "            add_review(name, grade)\n",
        "\n",
        "        else:\n",
        "            print(\"поставьте оцеку от 1 до 5.\")\n",
        "\n",
        "    elif choice == '2':\n",
        "        name = input(\"введите имя для просмотра оценок: \")\n",
        "        view_grade(name)\n",
        "\n",
        "    elif choice == '3':\n",
        "        name = input(\"введите имя: \")\n",
        "        view_grade(name)\n",
        "\n",
        "        number = int(input(\"введите номер оценки: \"))\n",
        "        delete_grade(name, number)\n",
        "\n",
        "    elif choice == '4':\n",
        "        view_all_grade()\n",
        "\n",
        "\n",
        "\n",
        "    elif choice == '5':\n",
        "        name= input(\"введите имя: \")\n",
        "        calculate_average_rating(name)\n",
        "\n",
        "\n",
        "    else:\n",
        "        print(\"выход\")\n",
        "        break\n",
        "\n",
        "\n",
        "print(students)"
      ],
      "metadata": {
        "id": "cvhlltVbdyoL"
      },
      "execution_count": null,
      "outputs": []
    },
    {
      "cell_type": "markdown",
      "source": [
        "# Задание 7\n",
        "\n",
        "\n",
        "**Задача:**\n",
        "\n",
        "Создайте приложение-викторину с командной строкой, которое задает пользователям вопросы по различным темам и отслеживает их результаты.\n",
        "\n",
        "Ключевые особенности:\n",
        "\n",
        "*   Хранение данных о вопросах и ответах на них, а также баллов за каждый вопрос\n",
        "*   Реализуйте функцию для представления вопросов, принятия ответов пользователей и предоставления обратной связи о том, являются ли ответы правильными или неправильными.\n",
        "*  После завершения викторины отобразите общий балл пользователя из числа ответов на вопросы.\n",
        "*  Реализуйте функцию добавления нового вопроса\n",
        "*  Реализуйте функцию перемешивания вопросов, для отображения случайного вопроса\n"
      ],
      "metadata": {
        "id": "iQ8Z-7PYgu1_"
      }
    },
    {
      "cell_type": "code",
      "source": [
        "import random\n",
        "\n",
        "questions = []\n",
        "\n",
        "\n",
        "def add_question(question, answer):\n",
        "    questions.append((question, answer))\n",
        "\n",
        "\n",
        "def rndm_questions():\n",
        "    random.shuffle(questions)\n",
        "\n",
        "\n",
        "def ask_questions():\n",
        "    score = 0\n",
        "    for question, answer in questions:\n",
        "        user_answer = input(f\"{question} \")\n",
        "        if user_answer == answer:\n",
        "            print(\"Правильно!\")\n",
        "            score += 1\n",
        "        else:\n",
        "            print(f\"Неправильно! Правильный ответ: {answer}\")\n",
        "    return score\n",
        "\n",
        "def display_score(score):\n",
        "\n",
        "    total_score = len(questions)\n",
        "\n",
        "    print(f\"Ваш общий счет: {score} из {total_score}\")\n",
        "\n",
        "def run_quiz():\n",
        "    print(\"Викторина Бульба\")\n",
        "    rndm_questions()\n",
        "    score = ask_questions()\n",
        "    display_score(score)\n",
        "\n",
        "\n",
        "add_question(\"Вадим?\", \"топ\")\n",
        "add_question(\"Сколько дней в неделе?\", \"7\")\n",
        "add_question(\"Столица Болгарии\", \"София\")\n",
        "add_question(\"КТо написал роман '1984' ?\", \"Джордж Оруэлл\")\n",
        "add_question('да?', 'да')\n",
        "\n",
        "\n",
        "run_quiz()"
      ],
      "metadata": {
        "id": "DhxyYwHwh2V4",
        "outputId": "f37dac18-3d1a-4a4d-f4c9-2c723e805deb",
        "colab": {
          "base_uri": "https://localhost:8080/"
        }
      },
      "execution_count": 1,
      "outputs": [
        {
          "output_type": "stream",
          "name": "stdout",
          "text": [
            "Викторина Бульба\n",
            "да? да\n",
            "Правильно!\n",
            "КТо написал роман '1984' ? Джордж Оруэлл\n",
            "Правильно!\n",
            "Столица Болгарии София\n",
            "Правильно!\n",
            "Путин? топ\n",
            "Правильно!\n",
            "Сколько дней в неделе? 7\n",
            "Правильно!\n",
            "Ваш общий счет: 5 из 5\n"
          ]
        }
      ]
    }
  ]
}