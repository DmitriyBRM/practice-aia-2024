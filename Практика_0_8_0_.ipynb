{
  "nbformat": 4,
  "nbformat_minor": 0,
  "metadata": {
    "colab": {
      "provenance": [],
      "collapsed_sections": [
        "ia9UtA0cU1Iy",
        "QGrsZrv5U1s8"
      ],
      "include_colab_link": true
    },
    "kernelspec": {
      "name": "python3",
      "display_name": "Python 3"
    },
    "language_info": {
      "name": "python"
    }
  },
  "cells": [
    {
      "cell_type": "markdown",
      "metadata": {
        "id": "view-in-github",
        "colab_type": "text"
      },
      "source": [
        "<a href=\"https://colab.research.google.com/github/DmitriyBRM/practice-aia-2024/blob/main/%D0%9F%D1%80%D0%B0%D0%BA%D1%82%D0%B8%D0%BA%D0%B0_0_8_0_.ipynb\" target=\"_parent\"><img src=\"https://colab.research.google.com/assets/colab-badge.svg\" alt=\"Open In Colab\"/></a>"
      ]
    },
    {
      "cell_type": "markdown",
      "source": [
        "# Задание 1"
      ],
      "metadata": {
        "id": "ra45s33wUt-C"
      }
    },
    {
      "cell_type": "markdown",
      "source": [
        "Задача: Создать чат бота для получения информации об исследованиях космоса\n",
        "\n",
        "Описание: Создайте комплексное приложение командной строки, которое будет использоваться в качестве панели управления исследованиями космоса. Данное приложение будет обращаться к https://api.nasa.gov/ для предоставления пользователям набора информации о космосе, включая:\n",
        "\n",
        "- Астрономическая картинка дня (APOD): Отображение APOD с пояснениями к нему.\n",
        "- Фотографии с марсохода: позволяет пользователям выбирать и фильтровать фотографии с марсохода по дате и типу камеры.\n",
        "- Объекты, сближающиеся с Землей (ОСЗ): Поиск и отображение информации об объекте, сближающихся с Землей, на определенную дату, включая их размеры и потенциальную опасность.\n",
        "- Данные о космической погоде: Отображают последние данные о космической погоде, включая солнечные вспышки и геомагнитные бури.\n",
        "Приложение должно позволять пользователям ориентироваться в этих функциях, корректно обрабатывать ошибки и обеспечивать удобство работы.\n",
        "\n",
        "Требования:\n",
        "- Пользовательский ввод: Приложение должно предложить пользователю ввести данные, чтобы выбрать, какую функцию он хочет изучить.\n",
        "- Проверка данных: Убедитесь, что пользовательские данные (например, даты) проверены.\n",
        "- Обработка ошибок: Корректно обрабатывайте ошибки API и неверные ответы.\n",
        "- Представление данных: Представляйте данные в четкой и организованной форме.\n",
        "- Опция выхода: позволяет пользователям выходить из приложения в любое время."
      ],
      "metadata": {
        "id": "G56D5mNCUwp5"
      }
    },
    {
      "cell_type": "code",
      "execution_count": null,
      "metadata": {
        "id": "wGeJM9n4UqUD",
        "colab": {
          "base_uri": "https://localhost:8080/"
        },
        "outputId": "5e024f35-74dd-41cb-afae-fb001c0f0006"
      },
      "outputs": [
        {
          "name": "stdout",
          "output_type": "stream",
          "text": [
            "выберете функию:\n",
            "1) Астрономическая картинка дня (APOD)\n",
            "2) Фотографии с марсохода\n",
            "3) Объекты, сближающиеся с Землей (ОСЗ)\n",
            "4) Данные о космической погоде\n",
            "5) стоп\n",
            "5\n"
          ]
        }
      ],
      "source": [
        "import requests\n",
        "import io\n",
        "from datetime import *\n",
        "from PIL import Image\n",
        "from IPython.display import display\n",
        "\n",
        "current_date = datetime.today().date()\n",
        "current_date = f'{current_date.year}-{current_date.month}-{current_date.day}'\n",
        "url_APOD = 'https://api.nasa.gov/planetary/apod?api_key=bShS9hPraflofTnuICjXyW9SREIhGPPoEK5j3k6z'\n",
        "move = None\n",
        "\n",
        "def send_request(url):\n",
        "\n",
        "    response = requests.get(url)\n",
        "\n",
        "    print(response.status_code)\n",
        "\n",
        "    if response.status_code == 200:\n",
        "        return response.json()\n",
        "\n",
        "\n",
        "def status_code(url):\n",
        "\n",
        "    response = requests.get(url)\n",
        "\n",
        "    return response.status_code\n",
        "\n",
        "def apod(url_APOD):\n",
        "\n",
        "    info = send_request(url_APOD)\n",
        "    image_url = info['url']\n",
        "    res = requests.get(image_url)\n",
        "    explanation = info['explanation']\n",
        "    img = Image.open(io.BytesIO(res.content))\n",
        "\n",
        "    display(img)\n",
        "    print(explanation)\n",
        "\n",
        "\n",
        "def marsRover_photo(url_marsRover):\n",
        "    status = status_code(url_marsRover)\n",
        "    if status == 200:\n",
        "        info = send_request(url_marsRover)\n",
        "\n",
        "        for photo in info['photos']:\n",
        "            url_photo = photo['img_src']\n",
        "            res = requests.get(url_photo)\n",
        "            img = Image.open(io.BytesIO(res.content))\n",
        "\n",
        "            display(img)\n",
        "        else:\n",
        "            print('фото нет')\n",
        "\n",
        "    else:\n",
        "        print('фото нет')\n",
        "\n",
        "\n",
        "\n",
        "def SBDB(url_SBDB):\n",
        "    if status_code(url_SBDB) == 200:\n",
        "\n",
        "        info = send_request(url_SBDB)\n",
        "        k = 0\n",
        "\n",
        "        for date, names  in info['near_earth_objects'].items():\n",
        "            print(f'дата({date})')\n",
        "\n",
        "            for info in names:\n",
        "                k+=1\n",
        "\n",
        "                if info['is_potentially_hazardous_asteroid'] == True:\n",
        "                    danger = 'есть'\n",
        "\n",
        "                else:\n",
        "                    danger = 'отсутствует'\n",
        "                print(f'{k}) название: {info[\"name\"]}, размер {info[\"estimated_diameter\"][\"meters\"][\"estimated_diameter_max\"]}, опасность {danger}')\n",
        "\n",
        "\n",
        "    else:\n",
        "        print('ошибка')\n",
        "\n",
        "\n",
        "def space_weather(url_weather_FLR, url_weather_GST):\n",
        "\n",
        "    infoFLR = send_request(url_weather_FLR)\n",
        "    infoGST = send_request(url_weather_GST)\n",
        "\n",
        "    print('информация о солнечных вспышках:')\n",
        "\n",
        "    if infoFLR != []:\n",
        "        for data in infoFLR:\n",
        "            print(f'id:  {data[\"flrID\"]}')\n",
        "\n",
        "            if data['note'] == '':\n",
        "                print('описания нет')\n",
        "\n",
        "            else:\n",
        "                print(f'описание:  {data[\"note\"]}')\n",
        "    else:\n",
        "        print('нет иформации')\n",
        "\n",
        "    print('информация о геомагнитной буре:')\n",
        "\n",
        "    for data in infoGST:\n",
        "        print(f'время наблюдения: {data[\"allKpIndex\"][0][\"observedTime\"]}')\n",
        "        print(f'глобальный показатель авроральной активности: {data[\"allKpIndex\"][0][\"kpIndex\"]}')\n",
        "\n",
        "    else:\n",
        "        print('нет информации')\n",
        "\n",
        "\n",
        "def main(url):\n",
        "    data = send_request(url)\n",
        "    message = (data)\n",
        "\n",
        "    print(message)\n",
        "\n",
        "\n",
        "\n",
        "while move != 4:\n",
        "    print('выберете функию:')\n",
        "    print('1) Астрономическая картинка дня (APOD)')\n",
        "    print('2) Фотографии с марсохода')\n",
        "    print('3) Объекты, сближающиеся с Землей (ОСЗ)')\n",
        "    print('4) Данные о космической погоде')\n",
        "    print('5) стоп')\n",
        "    move = input()\n",
        "\n",
        "    if move == '1':\n",
        "        apod(url_APOD)\n",
        "\n",
        "    elif move == '2':\n",
        "        cameraType = {1:'FHAZ', 2:'RHAZ', 3:'MAST', 4:'CHEMCAM', 5:'MAHLI', 6:'MARDI', 7:'NAVCAM'}\n",
        "        sol = input('введите сол: ')\n",
        "\n",
        "        print(cameraType)\n",
        "\n",
        "        camType = int(input('введите тип камеры: '))\n",
        "\n",
        "        ctype = cameraType[camType]\n",
        "        url_marsRover = f'https://api.nasa.gov/mars-photos/api/v1/rovers/curiosity/photos?sol={sol}&api_key=bShS9hPraflofTnuICjXyW9SREIhGPPoEK5j3k6z&camera={ctype}'\n",
        "\n",
        "        marsRover_photo(url_marsRover)\n",
        "\n",
        "    elif move == '3':\n",
        "        chooseDate = input('введите дату в формате гггг-мм-дд: ')\n",
        "        url_SBDB = f'https://api.nasa.gov/neo/rest/v1/feed?start_date={chooseDate}&end_date={chooseDate}&api_key=bShS9hPraflofTnuICjXyW9SREIhGPPoEK5j3k6z'\n",
        "        SBDB(url_SBDB)\n",
        "\n",
        "    elif move == '4':\n",
        "        chooseDate = input('введите дату в формате гггг-мм-дд: ')\n",
        "        url_weather_FLR = f'https://api.nasa.gov/DONKI/FLR?startDate={chooseDate}&endDate={chooseDate}&api_key=bShS9hPraflofTnuICjXyW9SREIhGPPoEK5j3k6z'\n",
        "        url_weather_GST = f'https://api.nasa.gov/DONKI/GST?startDate={chooseDate}&endDate={chooseDate}&api_key=bShS9hPraflofTnuICjXyW9SREIhGPPoEK5j3k6z'\n",
        "\n",
        "        space_weather(url_weather_FLR, url_weather_GST)\n",
        "\n",
        "    elif move == '5':\n",
        "        break\n",
        "\n",
        "\n",
        "\n",
        "\n"
      ]
    },
    {
      "cell_type": "markdown",
      "source": [
        "# Задание 2"
      ],
      "metadata": {
        "id": "ia9UtA0cU1Iy"
      }
    },
    {
      "cell_type": "markdown",
      "source": [
        "Описание задачи\n",
        "\n",
        "Цель этой задачи - создать скрипт на Python, который взаимодействует с API Чикагского института искусств (https://api.artic.edu/docs/) для извлечения и отображения произведений искусства. Скрипт должен позволять пользователям просматривать работы по страницам, фильтровать их по имени художника и просматривать подробную информацию о выбранных произведениях искусства. Ниже приведены требования и функциональные возможности, которые необходимо реализовать:\n",
        "\n",
        "Требования:\n",
        "Извлекать произведения искусства:\n",
        "\n",
        "- Создайте функцию, которая извлекает список произведений искусства из API Чикагского института искусств.\n",
        "Функция должна принимать параметр page для разбивки на страницы и возвращать список произведений искусства вместе с информацией о разбивке на страницы.\n",
        "Фильтровать произведения искусства:\n",
        "\n",
        "- Реализуйте функцию, которая фильтрует список произведений искусства на основе имени указанного художника. Функция должна возвращать список работ, которые соответствуют имени художника (без учета регистра).\n",
        "Отображать подробную информацию об оформлении:\n",
        "\n",
        "- Напишите функцию, которая отображает названия работ для пользователя и позволяет ему выбрать одну из них, введя соответствующий номер.\n",
        "После выбора функция должна отображать подробную информацию о выбранном произведении, включая название, исполнителя, дату и носитель.\n",
        "Разбивка на страницы и взаимодействие с пользователем:\n",
        "\n",
        "- Создайте основную функцию, которая управляет выборкой произведений и взаимодействием с пользователем.\n",
        "\n",
        "Разрешите пользователям перемещаться по страницам с произведениями искусства, выполнять фильтрацию по исполнителю или выходить из программы.\n",
        "\n",
        "Если страниц с произведениями искусства несколько, укажите варианты перехода к следующей странице, предыдущей странице, фильтрации по исполнителю или выхода из программы."
      ],
      "metadata": {
        "id": "Ofu_GmqrU1Iy"
      }
    },
    {
      "cell_type": "code",
      "execution_count": 1,
      "metadata": {
        "id": "jjUH1GznU1Iy",
        "colab": {
          "base_uri": "https://localhost:8080/",
          "height": 668
        },
        "outputId": "ea68682b-db76-4bc5-c796-089d40973367"
      },
      "outputs": [
        {
          "name": "stdout",
          "output_type": "stream",
          "text": [
            "Страница 1 из 10528\n",
            "1) The Superb Lily, from The Temple of Flora, (Richard Earlom)\n",
            "2) The Superb Lily, from The Temple of Flora, (Richard Earlom)\n",
            "3) The Annunciation, (Jean Hey, (the Master of Moulins))\n",
            "4) The Philosopher's Conquest, (Giorgio de Chirico)\n",
            "5) Henri Degas and His Niece Lucie Degas (The Artist's Uncle and Cousin), (Hilaire Germain Edgar Degas)\n",
            "6) Alexander Grant, (Cosmo Alexander)\n",
            "7) Self-Portrait, (Max Beckmann)\n",
            "8) Portrait of Marevna, (Diego Rivera)\n",
            "9) City Landscape, (Joan Mitchell)\n",
            "10) Champs de Mars: The Red Tower, (Robert Delaunay)\n",
            "11) Untitled (Brown and Gray), (Mark Rothko)\n",
            "12) Interior at Nice, (Henri Matisse)\n",
            "1) Фильтрация по исполнителю\n",
            "2) Следующая страница\n",
            "3) Предыдущая страница\n",
            "4) Выход\n",
            "Введите номер команды: 1\n"
          ]
        },
        {
          "output_type": "error",
          "ename": "KeyboardInterrupt",
          "evalue": "Interrupted by user",
          "traceback": [
            "\u001b[0;31m---------------------------------------------------------------------------\u001b[0m",
            "\u001b[0;31mKeyboardInterrupt\u001b[0m                         Traceback (most recent call last)",
            "\u001b[0;32m<ipython-input-1-13ec5114be41>\u001b[0m in \u001b[0;36m<cell line: 34>\u001b[0;34m()\u001b[0m\n\u001b[1;32m     49\u001b[0m \u001b[0;34m\u001b[0m\u001b[0m\n\u001b[1;32m     50\u001b[0m     \u001b[0;32mif\u001b[0m \u001b[0mmove\u001b[0m \u001b[0;34m==\u001b[0m \u001b[0;34m'1'\u001b[0m\u001b[0;34m:\u001b[0m\u001b[0;34m\u001b[0m\u001b[0;34m\u001b[0m\u001b[0m\n\u001b[0;32m---> 51\u001b[0;31m         \u001b[0mname\u001b[0m \u001b[0;34m=\u001b[0m \u001b[0minput\u001b[0m\u001b[0;34m(\u001b[0m\u001b[0;34m\"Введите имя художника: \"\u001b[0m\u001b[0;34m)\u001b[0m\u001b[0;34m\u001b[0m\u001b[0;34m\u001b[0m\u001b[0m\n\u001b[0m\u001b[1;32m     52\u001b[0m         \u001b[0mfiltered_artworks\u001b[0m \u001b[0;34m=\u001b[0m \u001b[0martistName\u001b[0m\u001b[0;34m(\u001b[0m\u001b[0martworks\u001b[0m\u001b[0;34m,\u001b[0m \u001b[0mname\u001b[0m\u001b[0;34m)\u001b[0m\u001b[0;34m\u001b[0m\u001b[0;34m\u001b[0m\u001b[0m\n\u001b[1;32m     53\u001b[0m         \u001b[0mk\u001b[0m\u001b[0;34m+=\u001b[0m \u001b[0;36m1\u001b[0m\u001b[0;34m\u001b[0m\u001b[0;34m\u001b[0m\u001b[0m\n",
            "\u001b[0;32m/usr/local/lib/python3.10/dist-packages/ipykernel/kernelbase.py\u001b[0m in \u001b[0;36mraw_input\u001b[0;34m(self, prompt)\u001b[0m\n\u001b[1;32m    849\u001b[0m                 \u001b[0;34m\"raw_input was called, but this frontend does not support input requests.\"\u001b[0m\u001b[0;34m\u001b[0m\u001b[0;34m\u001b[0m\u001b[0m\n\u001b[1;32m    850\u001b[0m             )\n\u001b[0;32m--> 851\u001b[0;31m         return self._input_request(str(prompt),\n\u001b[0m\u001b[1;32m    852\u001b[0m             \u001b[0mself\u001b[0m\u001b[0;34m.\u001b[0m\u001b[0m_parent_ident\u001b[0m\u001b[0;34m,\u001b[0m\u001b[0;34m\u001b[0m\u001b[0;34m\u001b[0m\u001b[0m\n\u001b[1;32m    853\u001b[0m             \u001b[0mself\u001b[0m\u001b[0;34m.\u001b[0m\u001b[0m_parent_header\u001b[0m\u001b[0;34m,\u001b[0m\u001b[0;34m\u001b[0m\u001b[0;34m\u001b[0m\u001b[0m\n",
            "\u001b[0;32m/usr/local/lib/python3.10/dist-packages/ipykernel/kernelbase.py\u001b[0m in \u001b[0;36m_input_request\u001b[0;34m(self, prompt, ident, parent, password)\u001b[0m\n\u001b[1;32m    893\u001b[0m             \u001b[0;32mexcept\u001b[0m \u001b[0mKeyboardInterrupt\u001b[0m\u001b[0;34m:\u001b[0m\u001b[0;34m\u001b[0m\u001b[0;34m\u001b[0m\u001b[0m\n\u001b[1;32m    894\u001b[0m                 \u001b[0;31m# re-raise KeyboardInterrupt, to truncate traceback\u001b[0m\u001b[0;34m\u001b[0m\u001b[0;34m\u001b[0m\u001b[0m\n\u001b[0;32m--> 895\u001b[0;31m                 \u001b[0;32mraise\u001b[0m \u001b[0mKeyboardInterrupt\u001b[0m\u001b[0;34m(\u001b[0m\u001b[0;34m\"Interrupted by user\"\u001b[0m\u001b[0;34m)\u001b[0m \u001b[0;32mfrom\u001b[0m \u001b[0;32mNone\u001b[0m\u001b[0;34m\u001b[0m\u001b[0;34m\u001b[0m\u001b[0m\n\u001b[0m\u001b[1;32m    896\u001b[0m             \u001b[0;32mexcept\u001b[0m \u001b[0mException\u001b[0m \u001b[0;32mas\u001b[0m \u001b[0me\u001b[0m\u001b[0;34m:\u001b[0m\u001b[0;34m\u001b[0m\u001b[0;34m\u001b[0m\u001b[0m\n\u001b[1;32m    897\u001b[0m                 \u001b[0mself\u001b[0m\u001b[0;34m.\u001b[0m\u001b[0mlog\u001b[0m\u001b[0;34m.\u001b[0m\u001b[0mwarning\u001b[0m\u001b[0;34m(\u001b[0m\u001b[0;34m\"Invalid Message:\"\u001b[0m\u001b[0;34m,\u001b[0m \u001b[0mexc_info\u001b[0m\u001b[0;34m=\u001b[0m\u001b[0;32mTrue\u001b[0m\u001b[0;34m)\u001b[0m\u001b[0;34m\u001b[0m\u001b[0;34m\u001b[0m\u001b[0m\n",
            "\u001b[0;31mKeyboardInterrupt\u001b[0m: Interrupted by user"
          ]
        }
      ],
      "source": [
        "import requests\n",
        "\n",
        "url = 'https://api.artic.edu/api/v1/artworks'\n",
        "\n",
        "def send_request(page):\n",
        "\n",
        "    response = requests.get(f'{url}?page={page}')\n",
        "    if response.status_code == 200:\n",
        "        data = response.json()\n",
        "        return data['data'], data['pagination']\n",
        "\n",
        "\n",
        "def artistName(arts, name):\n",
        "\n",
        "    for art in arts:\n",
        "        if name in art['artist_display']:\n",
        "            f = [art]\n",
        "\n",
        "    return f\n",
        "\n",
        "\n",
        "def art(art):\n",
        "    title = art.get('title', 'Без названия')\n",
        "    artist = art.get('artist_display', 'Неизвестный')\n",
        "    date = art.get('date_display', 'Неизвестная дата')\n",
        "    medium = art.get('medium_display', 'Неизвестно')\n",
        "\n",
        "    print(f\"Название: {title}, художник: {artist} (Дата: {date}), Носитель: {medium}\")\n",
        "\n",
        "\n",
        "move = None\n",
        "\n",
        "page = 1\n",
        "while move != 4:\n",
        "    artworks, pages = send_request(page)\n",
        "    print(f\"Страница {page} из {pages.get('total_pages', 1)}\")\n",
        "\n",
        "    k = 0\n",
        "    for artwork in artworks:\n",
        "        k+= 1\n",
        "        print(f'{k}) {artwork.get(\"title\")}, ({artwork.get(\"artist_title\")})')\n",
        "\n",
        "    print(\"1) Фильтрация по исполнителю\")\n",
        "    print(\"2) Следующая страница\")\n",
        "    print(\"3) Предыдущая страница\")\n",
        "    print(\"4) Выход\")\n",
        "\n",
        "    move = input(\"Введите номер команды: \")\n",
        "\n",
        "    if move == '1':\n",
        "        name = input(\"Введите имя художника: \")\n",
        "        filtered_artworks = artistName(artworks, name)\n",
        "        k+= 1\n",
        "\n",
        "        for artwork in filtered_artworks:\n",
        "            k+= 1\n",
        "            print(f'{k}) {artwork.get(\"title\")}')\n",
        "\n",
        "        a = int(input(\"Введите номер произведения для просмотра деталей: \")) - 1\n",
        "        art(filtered_artworks[a])\n",
        "\n",
        "    elif move == '2':\n",
        "        page += 1\n",
        "\n",
        "    elif move == '3':\n",
        "        page -= 1\n",
        "\n",
        "    elif move == '4':\n",
        "        break"
      ]
    },
    {
      "cell_type": "markdown",
      "source": [
        "# Задание 3"
      ],
      "metadata": {
        "id": "eecUb-akU1ji"
      }
    },
    {
      "cell_type": "markdown",
      "source": [
        "Задача: Создать программу по управлению портфелем криптовалют\n",
        "\n",
        "Цель: Создать скрипт на Python, который извлекает цены на криптовалюты в режиме реального времени, позволяет пользователям управлять портфелем криптовалют, вычисляет общую стоимость портфеля, отслеживает изменения цен и предоставляет исторические данные о ценах для анализа.\n",
        "\n",
        "Требования:\n",
        "Получение текущих цен на криптовалюты:\n",
        "\n",
        "Используйте https://docs.coingecko.com/ для получения актуальных цен на список криптовалют.\n",
        "\n",
        "Управление портфелем:\n",
        "\n",
        "- Позволяет пользователю создавать портфель криптовалют и управлять им, указывая количество каждой криптовалюты, которой он владеет.\n",
        "- Расчитывает общую стоимость портфеля в указанной фиатной валюте (например, долларах США).\n",
        "\n",
        "Отслеживание изменения цен:\n",
        "\n",
        "- Отображение процентного изменения цены для каждой криптовалюты в портфеле за последние 24 часа.\n",
        "- Выделите все криптовалюты, стоимость которых значительно увеличилась или снизилась.\n",
        "\n",
        "Поиск исторических данных о ценах:\n",
        "\n",
        "- Получение исторических данных о ценах на указанную криптовалюту за последнюю неделю.\n",
        "- Предоставьте пользователю возможность визуализировать эти данные в простом текстовом формате (например, цены за день).\n",
        "\n",
        "Взаимодействие с пользователем:\n",
        "\n",
        "- Реализуйте интерфейс командной строки для ввода данных пользователем.\n",
        "- Предоставьте опции для получения текущих цен, управления портфелем, просмотра изменений цен или анализа исторических данных.\n"
      ],
      "metadata": {
        "id": "jsK7IKptU1ji"
      }
    },
    {
      "cell_type": "code",
      "source": [],
      "metadata": {
        "id": "_0DToTqlvywa"
      },
      "execution_count": null,
      "outputs": []
    },
    {
      "cell_type": "markdown",
      "source": [
        "# Дополнительно: Задание 4"
      ],
      "metadata": {
        "id": "QGrsZrv5U1s8"
      }
    },
    {
      "cell_type": "markdown",
      "source": [
        "Задание 4: Проектное\n",
        "\n",
        "Вам необходимо самостоятельно найти откртое API предоставляющее информацию в открытом доступе и реализовать собственный проект!\n",
        "\n",
        "\n",
        "Критерии приемки результата:\n",
        "\n",
        "- Проект включает в себя не менее 5 возможостей для пользователя\n",
        "- Проект позволяет использовать все возможности проекта пользователю при помощи взаимодействия через коммандную строку\n",
        "- Проект работает с открытым API (это значит что при проверке вашей работы преподавателем, преподавателю необходимо просто запустить ячейку с кодом вашего проекта и она будет работать без дополнительных манипуляции)\n",
        "- Проект должен обязательно включать в себя ряд используемых конструкции:\n",
        "    - Функции\n",
        "    - Условные конструкции\n",
        "    - Ввод/вывод\n",
        "    - Словари/Списки\n",
        "- Допускается использование библиотек:\n",
        "    - requests\n",
        "    - datetime\n",
        "    - random"
      ],
      "metadata": {
        "id": "qs_XITmYU1s8"
      }
    },
    {
      "cell_type": "markdown",
      "source": [
        "**Здесь добавьте описание вашего проекта**"
      ],
      "metadata": {
        "id": "VKXhaJi4FL0B"
      }
    },
    {
      "cell_type": "code",
      "execution_count": null,
      "metadata": {
        "id": "wiA55k1KU1s8"
      },
      "outputs": [],
      "source": [
        "#  А здесь код"
      ]
    }
  ]
}