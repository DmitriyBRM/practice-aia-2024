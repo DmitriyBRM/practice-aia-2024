{
  "nbformat": 4,
  "nbformat_minor": 0,
  "metadata": {
    "colab": {
      "provenance": [],
      "collapsed_sections": [
        "-CSHUbWzCqeM",
        "8XGka5GtEBK1",
        "0ct1u6lqE73j",
        "C5DX5Uf2FfP6",
        "b_mJHXcQGI9t"
      ],
      "include_colab_link": true
    },
    "kernelspec": {
      "name": "python3",
      "display_name": "Python 3"
    },
    "language_info": {
      "name": "python"
    }
  },
  "cells": [
    {
      "cell_type": "markdown",
      "metadata": {
        "id": "view-in-github",
        "colab_type": "text"
      },
      "source": [
        "<a href=\"https://colab.research.google.com/github/DmitriyBRM/practice-aia-2024/blob/main/%D0%9F%D1%80%D0%B0%D0%BA%D1%82%D0%B8%D0%BA%D0%B0_1_0_0_.ipynb\" target=\"_parent\"><img src=\"https://colab.research.google.com/assets/colab-badge.svg\" alt=\"Open In Colab\"/></a>"
      ]
    },
    {
      "cell_type": "markdown",
      "source": [
        "ФИО:"
      ],
      "metadata": {
        "id": "fLDS5f_mCnPa"
      }
    },
    {
      "cell_type": "markdown",
      "source": [
        "☹ Бурменский Дмитрий Викторович"
      ],
      "metadata": {
        "id": "rbC0HyJ-BpMi"
      }
    },
    {
      "cell_type": "markdown",
      "source": [
        "# Задание (совместное с преподавателем)\n",
        "\n",
        "\n"
      ],
      "metadata": {
        "id": "-CSHUbWzCqeM"
      }
    },
    {
      "cell_type": "markdown",
      "source": [
        "Напишите систему для учёта отпусков с возможностью узнавать, сколько дней отпуска осталось у того или иного сотрудника.\n",
        "Для этого создайте класс Employee со следующими методами:\n",
        "\n",
        "- Метод consume_vacation должен отвечать за списание дней отпуска.\n",
        "\n",
        "Единственный параметр этого метода (кроме self) — количество потраченных отпускных дней (целое число).\n",
        "\n",
        "При вызове метода consume_vacation соответствующее количество дней должно вычитаться из общего числа доступных отпускных дней сотрудника.\n",
        "\n",
        "Чтобы определить число доступных отпускных дней конкретного сотрудника, в классе опишите атрибут экземпляра |, который по умолчанию будет равен значению атрибута класса vacation_days, и используйте этот атрибут в работе метода.\n",
        "\n",
        "- Метод get_vacation_details должен возвращать остаток отпускных дней сотрудника в формате: ```Остаток отпускных дней: <число>.```\n",
        "\n",
        "\n",
        "Чтобы проверить работу программы:\n",
        "1. Создайте экземпляр класса Employee.\n",
        "2. Вызовите метод consume_vacation, указав подходящее значение аргумента, например 7.\n",
        "3. Вызовите метод get_vacation_details."
      ],
      "metadata": {
        "id": "a_flBjZOCwYz"
      }
    },
    {
      "cell_type": "code",
      "source": [
        "class Employee:\n",
        "\n",
        "    vacation_days = 28\n",
        "\n",
        "    def __init__(self, first_name, surname, gender):\n",
        "        self.first_name = first_name\n",
        "        self.surname = surname\n",
        "        self.gender = gender\n",
        "        self.remaining_vacation_days = self.vacation_days\n",
        "\n",
        "    def consume_vacation(self, days):\n",
        "        self.remaining_vacation_days -= days\n",
        "\n",
        "    def vacation_details(self):\n",
        "        return f\"Остаток отпускных дней: {self.remaining_vacation_days}.\"\n",
        "\n",
        "employee = Employee('Ваня', \"Школьник\", \"м\")\n",
        "employee2 = Employee('Соня', \"Салон\", \"ж\")\n",
        "print(employee.first_name, employee.surname, employee.remaining_vacation_days)\n",
        "\n",
        "print(employee2.first_name, employee2.surname, employee2.remaining_vacation_days)\n",
        "\n",
        "print('Ваня Школьник отпуск 1 день')\n",
        "employee.consume_vacation(1)\n",
        "print('СОня салон отпуск 20 дней')\n",
        "employee2.consume_vacation(20)\n",
        "\n",
        "\n",
        "print(employee.first_name, employee.surname, employee.remaining_vacation_days)\n",
        "\n",
        "print(employee2.first_name, employee2.surname, employee2.remaining_vacation_days)"
      ],
      "metadata": {
        "id": "G4bUraN4CwBI"
      },
      "execution_count": null,
      "outputs": []
    },
    {
      "cell_type": "markdown",
      "source": [
        "# Задание 1"
      ],
      "metadata": {
        "id": "8XGka5GtEBK1"
      }
    },
    {
      "cell_type": "markdown",
      "source": [
        "Задание:\n",
        "\n",
        "Создайте класс с именем Rectangle который имеет:\n",
        "- Атрибуты ширины и высоты.\n",
        "- Метод расчета площади.\n",
        "- Метод расчета периметра.\n",
        "- Метод отображения размеров прямоугольника.\n",
        "\n",
        "Создайте экземпляр класса Rectangleи продемонстрируйте его функциональность."
      ],
      "metadata": {
        "id": "jQ4qqd8nEZBY"
      }
    },
    {
      "cell_type": "code",
      "source": [
        "class Rectangle:\n",
        "\n",
        "    def __init__(self, name, width, height):\n",
        "        self.name = name\n",
        "        self.width = width\n",
        "        self.height = height\n",
        "\n",
        "    def area_calculation(self):\n",
        "        self.area = self.width*self.height\n",
        "\n",
        "        return self.area\n",
        "\n",
        "    def perimeter_calculation(self):\n",
        "        self.perimeter = 2*(self.width + self.height)\n",
        "\n",
        "        return self.perimeter\n",
        "\n",
        "    def size_display(self):\n",
        "\n",
        "        return f'размер {self.name}: длина({self.width}), ширина({self.height}), площадь - {self.area}, преиметр - {self.perimeter}'\n",
        "\n",
        "\n",
        "rectangle1 = Rectangle('прямоуг1', 4, 5)\n",
        "rectangle2 = Rectangle('квадрат', 4, 4)\n",
        "\n",
        "\n",
        "rectangle1.area_calculation()\n",
        "rectangle1.perimeter_calculation()\n",
        "print(rectangle1.size_display())\n"
      ],
      "metadata": {
        "id": "dG6uNPqTEAvt",
        "colab": {
          "base_uri": "https://localhost:8080/"
        },
        "outputId": "6185676d-c29e-46cc-be9f-b50f3dc34923"
      },
      "execution_count": null,
      "outputs": [
        {
          "output_type": "stream",
          "name": "stdout",
          "text": [
            "размер прямоуг1: длина(4), ширина(5), площадь - 20, преиметр - 18\n"
          ]
        }
      ]
    },
    {
      "cell_type": "markdown",
      "source": [
        "# Задание 2"
      ],
      "metadata": {
        "id": "0ct1u6lqE73j"
      }
    },
    {
      "cell_type": "markdown",
      "source": [
        "Задание: Создайте мини версию банковской системы:\n",
        "\n",
        "\n",
        "Инструкции:\n",
        "\n",
        "1. Создайте класс BankAccountсо следующими атрибутами:\n",
        "    - account_holder -  владелец счета\n",
        "    - balance - баланс счета\n",
        "\n",
        "2. Реализуйте следующие методы:\n",
        "    - Метод для инициализации владельца счета: имя владельца счета и установите начальный баланс на 0.\n",
        "    - deposit(amount): Добавьте указанную сумму к балансу.\n",
        "    - withdraw(amount): Вычесть указанную сумму из баланса, если средств достаточно; в противном случае вывести предупреждение.\n",
        "    - get_balance(): Возврат текущего баланса.\n",
        "\n",
        "\n",
        "Создайте объект класса и продемонстрируйте его возможности"
      ],
      "metadata": {
        "id": "FOpIpcLxE-WK"
      }
    },
    {
      "cell_type": "code",
      "source": [
        "class BankAccountсо:\n",
        "\n",
        "    def __init__(self, holder, balance):\n",
        "        self.account_holder = holder\n",
        "        self.balance = balance\n",
        "\n",
        "    def deposit(self, amount):\n",
        "        self.balance +=  amount\n",
        "\n",
        "        return self.balance\n",
        "\n",
        "    def withdraw(self, amount):\n",
        "\n",
        "        if amount <= self.balance:\n",
        "            self.balance -= amount\n",
        "\n",
        "            return self.balance\n",
        "\n",
        "        else:\n",
        "            print('attenion !')\n",
        "\n",
        "    def get_balance(self):\n",
        "        return self.balance\n",
        "\n",
        "people1 = BankAccountсо('ваня', 1000)\n",
        "people2 = BankAccountсо('петя', 20)\n",
        "\n",
        "people1.deposit(200)\n",
        "people2.withdraw(23)\n",
        "print(people1.get_balance())"
      ],
      "metadata": {
        "id": "WWXNIUrCE99W"
      },
      "execution_count": null,
      "outputs": []
    },
    {
      "cell_type": "markdown",
      "source": [
        "# Задание 3"
      ],
      "metadata": {
        "id": "C5DX5Uf2FfP6"
      }
    },
    {
      "cell_type": "markdown",
      "source": [
        "Возьмите код и задание (Рыцарь и дракон) из предыдущей практики и реализуйте его с применением классов"
      ],
      "metadata": {
        "id": "0cR-MYepFgz6"
      }
    },
    {
      "cell_type": "code",
      "source": [
        "import random\n",
        "from random import randrange\n",
        "\n",
        "\n",
        "class character:\n",
        "\n",
        "    def __init__(self, name, armor_strength,  weapon_name, weapon_damage, health):\n",
        "        self.character_name = name\n",
        "        self.armor_strength = armor_strength\n",
        "        self.weapon_name = weapon_name\n",
        "        self.weapon_damage = weapon_damage\n",
        "        self.health = health + armor_strength\n",
        "\n",
        "\n",
        "class dragon:\n",
        "    def __init__(self, name, damage, health):\n",
        "        self.name = name\n",
        "        self.damage = damage\n",
        "        self.health = health\n",
        "\n",
        "\n",
        "name = input('введите имя персонажа ')\n",
        "armor = int(input('введите прочность доспехов '))\n",
        "weaponN = input('введите название оружия ')\n",
        "weaponD = 1\n",
        "health  = int(input('введите здоровье персонажа '))\n",
        "\n",
        "person = character(name, armor, weaponN, weaponD, health)\n",
        "\n",
        "name = input('введите имя дракона ')\n",
        "weaponD = 1\n",
        "health  = int(input('введите здоровье дракона '))\n",
        "\n",
        "villian = dragon(name, weaponD, health)\n",
        "\n",
        "\n",
        "def fight(potion):\n",
        "    while villian.health > 0 or person.health > 0:\n",
        "\n",
        "        print(f'здоровье дракона {villian.health}')\n",
        "        print(f'здоровье героя {person.health}')\n",
        "        print('----------------------------------------------------------')\n",
        "\n",
        "\n",
        "        damage = randrange(1,10)\n",
        "        villian.health -= damage\n",
        "\n",
        "        print(f'рыцарь наносит удар, дракон теряет {damage} очков здоровья')\n",
        "\n",
        "\n",
        "        damage = randrange(1,10)\n",
        "        person.health -= damage\n",
        "\n",
        "        print(f'дракон наносит удар, рыцарь теряет  {damage} очков здоровья')\n",
        "\n",
        "    else:\n",
        "        if villian.health <= 0:\n",
        "            if_villian_victory = False\n",
        "\n",
        "        elif person.health <= 0:\n",
        "            if_villian_victory = True\n",
        "\n",
        "    return if_villian_victory\n",
        "\n",
        "\n",
        "print(f'В далеком королевстве Драконов, о котором слагали легенды,жил отважный рыцарь по имени {person.character_name}.\\n\\\n",
        "        Он был известен своим мужеством и благородством, но его сердце всегда тосковало о приключениях.\\n\\\n",
        "        Однажды к нему пришли слухи о том, что в окрестных лесах появился могущественный дракон, похищающий жителей деревни и разрушая их дома.\\n\\\n",
        "        {person.character_name} решил, что настало время отправиться на поиски дракона и освободить свою землю от его гнета.\\n\\\n",
        "        Уже на пути к лесу {person.character_name} встретил старую ведьму по имени Астра.\\nОна была известна своими магическими способностями, но также и своей эксцентричностью.\\n\\\n",
        "        Астра предложила рыцрю помощь, но потребовала взамен небольшую услугу:\\nнайти её потерянный амулет, который затерялся в болотах на пути к логову дракона')\n",
        "\n",
        "choose_way = int(input(f'{person.character_name} должен решить, рискнуть, и помочь ведьме, или же игнорировать просьбу. Что же он выберет?\\n\\\n",
        "                         1) помочь ведьме\\n\\\n",
        "                         2) игнорировать просьбу '))\n",
        "\n",
        "if choose_way == 1:\n",
        "    print(f'{person.character_name} решает сначала помочь Астре.\\n\\\n",
        "    Он отправляется в болото, где ему предстоит столкнуться с различными опасностями: болотными чудовищами и хитроумными ловушками.\\n\\\n",
        "    Найдя амулет, Эдрик возвращает его ведьме, которая щедро награждает его зельем силы, которое поможет в сражении с драконом.')\n",
        "\n",
        "    print('+ зелье здоровья')\n",
        "    potion = True\n",
        "\n",
        "elif choose_way == 2:\n",
        "    print(f'{person.character_name} решает не тратить время на поиски амулета, полагая, что его первостепенная задача — сразиться с драконом.\\n\\\n",
        "          Он продолжает путь к логову дракона без каких-либо дополнительных средств.')\n",
        "    potion = False\n",
        "\n",
        "print('Наконец, Эдрик достигает логова дракона — огромной пещеры, освещенной огненными вспышками.\\n\\\n",
        "       Дракон, обладая ярко-красной чешуей и жгучими глазами, смотрит на рыцаря с презрением.\\n\\\n",
        "       Их встреча становится решающим моментом в судьбе королевства.')\n",
        "fight(potion)\n",
        "\n",
        "if fight(potion):\n",
        "    print('Победив дракона, Эдрик возвращается в свою деревню как герой, но его сердце всё ещё полнится жаждой приключений.\\n\\\n",
        "           Он понимает, что, несмотря на победу, мир полон неизведанных путей и тайн, которые ждут его.\\n\\\n",
        "           Больше того, Эдрик задумывается о том, что не только с мечом, но и с добротой и мудростью можно победить даже самых свирепых врагов.\\n\\\n",
        "           Его история лишь начинается.')\n",
        "else:\n",
        "    print('ахахахаха неудачник')"
      ],
      "metadata": {
        "id": "Oz9BZbhAFwua"
      },
      "execution_count": null,
      "outputs": []
    },
    {
      "cell_type": "markdown",
      "source": [
        "# Дополнительное задание\n"
      ],
      "metadata": {
        "id": "b_mJHXcQGI9t"
      }
    },
    {
      "cell_type": "markdown",
      "source": [
        "Задача: Система управления библиотекой\n",
        "\n",
        "**Цель**\n",
        "Создайте простую систему управления библиотекой, которая позволит пользователям добавлять книги, брать книги, возвращать книги и просматривать список доступных книг.\n",
        "\n",
        "**Требования**\n",
        "\n",
        "1. **Определение класса**:\n",
        "   – Создайте класс с именем «Book» со следующими атрибутами:\n",
        "     - `title`\n",
        "     - `автор`\n",
        "     - `isbn`\n",
        "     - `is_borrowed` (по умолчанию `False`)\n",
        "\n",
        "2. **Класс библиотеки**:\n",
        "   - Создайте класс с именем Library, который управляет коллекцией книг.\n",
        "   - Класс должен иметь следующие методы:\n",
        "     - `__init__(self)`: инициализирует пустой список книг.\n",
        "     - `add_book(self, book: Book)`: добавляет новую книгу в библиотеку.\n",
        "     - `borrow_book(self, isbn: str)`: помечает книгу как заимствованную. Если книга не найдена или уже взята, выведите соответствующее сообщение.\n",
        "     - `return_book(self, isbn: str)`: помечает книгу как возвращенную. Если книга не найдена или не была взята взаймы, выведите соответствующее сообщение.\n",
        "     - `list_available_books(self)`: печатает список всех доступных книг в библиотеке.\n",
        "     - `find_book(self, isbn: str)`: возвращает объект книги, если он найден, в противном случае возвращает `None`.\n",
        "\n",
        "3. **Взаимодействие с пользователем**:\n",
        "   - Создайте простое текстовое меню, которое позволит пользователям:\n",
        "     - Добавить книгу\n",
        "     - Одолжить книгу\n",
        "     - Вернуть книгу\n",
        "     - Список доступных книг\n",
        "     - Выйти из программы"
      ],
      "metadata": {
        "id": "pnIUdFPcGOVL"
      }
    },
    {
      "cell_type": "code",
      "source": [],
      "metadata": {
        "id": "GKKmdfN8GL6f"
      },
      "execution_count": null,
      "outputs": []
    }
  ]
}