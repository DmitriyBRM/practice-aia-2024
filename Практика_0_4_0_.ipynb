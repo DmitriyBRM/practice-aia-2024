{
  "nbformat": 4,
  "nbformat_minor": 0,
  "metadata": {
    "colab": {
      "provenance": [],
      "include_colab_link": true
    },
    "kernelspec": {
      "name": "python3",
      "display_name": "Python 3"
    },
    "language_info": {
      "name": "python"
    }
  },
  "cells": [
    {
      "cell_type": "markdown",
      "metadata": {
        "id": "view-in-github",
        "colab_type": "text"
      },
      "source": [
        "<a href=\"https://colab.research.google.com/github/DmitriyBRM/practice-aia-2024/blob/main/%D0%9F%D1%80%D0%B0%D0%BA%D1%82%D0%B8%D0%BA%D0%B0_0_4_0_.ipynb\" target=\"_parent\"><img src=\"https://colab.research.google.com/assets/colab-badge.svg\" alt=\"Open In Colab\"/></a>"
      ]
    },
    {
      "cell_type": "markdown",
      "source": [
        "Введите ваше ФИО:"
      ],
      "metadata": {
        "id": "k8oVfdwrMXyc"
      }
    },
    {
      "cell_type": "code",
      "execution_count": null,
      "metadata": {
        "id": "5mcBLsKMI1-5"
      },
      "outputs": [],
      "source": [
        "Бурменский Дмитрий Викторович +"
      ]
    },
    {
      "cell_type": "markdown",
      "source": [
        "***Дисклеймер***\n",
        "\n",
        "В данной практике запрещено использования функций:\n",
        "\n",
        "\n",
        "*   sum()\n",
        "*   min()\n",
        "*   max()\n",
        "*   average()\n",
        "*   reversed()\n",
        "*   sorted()\n",
        "*   готовые функции или библиотеки\n"
      ],
      "metadata": {
        "id": "8HbYUbm3Jw3o"
      }
    },
    {
      "cell_type": "markdown",
      "source": [
        "\n",
        "**Задача 1:**\n",
        "\n",
        "\n",
        "\n",
        "Интернет-магазин предлагает следующие условия скидок:\n",
        "\n",
        "*   Для заказов больше 1000 единиц, клиент получает скидку 5%. Если клиент использует промокод SUPERDISCOUNT, он получает скидку 10% (вместо 5%).\n",
        "*  Для заказов более 5000 единиц, клиент получает скидку 15%, а использование промокода SUPERDISCOUNT увеличивает скидку до 20% (вместо 15%).\n",
        "\n",
        "Этап 1:\n",
        "Ввод:\n",
        "```\n",
        "Введите стоимость единицы товара: 5\n",
        "Введите количество товара: 1001\n",
        "Введите промокод: GiVEMEDISCONT\n",
        "```\n",
        "\n",
        "Вывод:\n",
        "\n",
        "```\n",
        "Ваша скидка: 5%\n",
        "Итоговая сумма: 4750.0\n",
        "```\n",
        "Этап 2:\n",
        "\n",
        "Оформите ваш код в виде функции"
      ],
      "metadata": {
        "id": "HmX0c6YPJSQr"
      }
    },
    {
      "cell_type": "code",
      "source": [
        "def f(cost, amount, promo, summa):\n",
        "    cost = int(cost)\n",
        "    amount = int(amount)\n",
        "    summa = cost*amount\n",
        "    if amount > 5000:\n",
        "        if promo == 'SUPERDISCOUNT':\n",
        "            summa = summa*0.80\n",
        "            promo = '20%'\n",
        "            print('ваша скидка:',promo)\n",
        "            print('итоговая сумма:',summa)\n",
        "        else:\n",
        "            summa = summa*0.85\n",
        "            promo = '15%'\n",
        "            print('ваша скидка:',promo)\n",
        "            print('итоговая сумма:',summa)\n",
        "    elif amount > 1000:\n",
        "        if promo == 'SUPERDISCOUNT':\n",
        "            summa = summa*0.90\n",
        "            promo = '10%'\n",
        "            print('ваша скидка:',promo)\n",
        "            print('итоговая сумма:',summa)\n",
        "        else:\n",
        "            summa = summa*0.95\n",
        "            promo = '5%'\n",
        "            print('ваша скидка:',promo)\n",
        "            print('итоговая сумма:',summa)\n",
        "\n",
        "\n",
        "cost = input('введите стоимость единицы товара:')\n",
        "amount = input('введите количество товара:')\n",
        "promo = input('введите промокод:')\n",
        "print(f(cost, amount, promo, 0))"
      ],
      "metadata": {
        "id": "OAIMIpklMN5D",
        "colab": {
          "base_uri": "https://localhost:8080/"
        },
        "outputId": "746b4d7e-fa9f-4e66-b0f9-71893be93552"
      },
      "execution_count": null,
      "outputs": [
        {
          "output_type": "stream",
          "name": "stdout",
          "text": [
            "введите стоимость единицы товара:5\n",
            "введите количество товара:1001\n",
            "введите промокод:GiVEMEDISCONT\n",
            "ваша скидка: 5%\n",
            "итоговая сумма: 4754.75\n",
            "None\n"
          ]
        }
      ]
    },
    {
      "cell_type": "markdown",
      "source": [
        "**Задача 2:**\n",
        "\n",
        "Этап 1:\n",
        "Напишите программу способную отфильтровать список и вывести только положительные элементы\n",
        "\n",
        "\n",
        "Ввод:\n",
        "```\n",
        "-1 5 1 2 -3\n",
        "```\n",
        "\n",
        "Вывод:\n",
        "\n",
        "```\n",
        "5 1 2\n",
        "```\n",
        "\n",
        "Этап 2:\n",
        "\n",
        "Оформите ваш код в виде функции"
      ],
      "metadata": {
        "id": "eeRVWpuLNGJ0"
      }
    },
    {
      "cell_type": "code",
      "source": [
        "def f(a):\n",
        "    b = []\n",
        "    a = a.split()\n",
        "    for i in a:\n",
        "        b.append(int(i))\n",
        "\n",
        "    for i in b:\n",
        "        if i > 0:\n",
        "            print(i, end = ' ')\n",
        "a = input('введите числа через пробел:')\n",
        "f(a)"
      ],
      "metadata": {
        "id": "Xbi6bL0WOE9N",
        "colab": {
          "base_uri": "https://localhost:8080/"
        },
        "outputId": "df66c576-41a5-4ed0-b3c8-d8d4a6321ee8"
      },
      "execution_count": null,
      "outputs": [
        {
          "output_type": "stream",
          "name": "stdout",
          "text": [
            "введите числа через пробел:-1 5 1 2 -3\n",
            "5 1 2 "
          ]
        }
      ]
    },
    {
      "cell_type": "markdown",
      "source": [
        "**Задача 3:**\n",
        "\n",
        "Этап 1:\n",
        "Напишите программу реализующую Алгоритм Евклида\n",
        "\n",
        "\n",
        "> Алгоритм Евклида – это алгоритм нахождения наибольшего общего делителя (НОД) пары целых чисел.\n",
        "\n",
        "\n",
        "\n",
        "Ввод:\n",
        "```\n",
        "30 18\n",
        "```\n",
        "\n",
        "Вывод:\n",
        "\n",
        "```\n",
        "6\n",
        "```\n",
        "\n",
        "Этап 2:\n",
        "Оформите ваш код в виде функции\n"
      ],
      "metadata": {
        "id": "lV-w6G-POa6F"
      }
    },
    {
      "cell_type": "code",
      "source": [
        "def f(a, b):\n",
        "    ost = b\n",
        "    while ost != 0:\n",
        "        a1 = ost\n",
        "        nod = ost\n",
        "        ost = a%ost\n",
        "        a = a1\n",
        "    else:\n",
        "        print(nod)\n",
        "a = int(input('введите первое значение:'))\n",
        "b = int(input('введите второе значение:'))\n",
        "f(a,b)"
      ],
      "metadata": {
        "id": "43Dl5tIpOZsu",
        "colab": {
          "base_uri": "https://localhost:8080/"
        },
        "outputId": "f80bdc09-8913-407f-d6d9-4dd53465010f"
      },
      "execution_count": null,
      "outputs": [
        {
          "output_type": "stream",
          "name": "stdout",
          "text": [
            "введите первое значение:12348\n",
            "введите второе значение:136543234\n",
            "2\n"
          ]
        }
      ]
    },
    {
      "cell_type": "markdown",
      "source": [
        "**Задача 4:**\n",
        "\n",
        "Этап 1:\n",
        "Напишите функцию программу, которая принимает строку и возвращает список слов и количество их упомнинаний в предложении\n",
        "\n",
        "Этап 2:\n",
        "Оформите ваш код в виде функции\n",
        "\n",
        "Ввод:\n",
        "```\n",
        "apple banana apple\n",
        "```\n",
        "\n",
        "Вывод:\n",
        "\n",
        "```\n",
        "apple: 2,\n",
        "banana: 1\n",
        "```"
      ],
      "metadata": {
        "id": "WIfPFxpsO0zL"
      }
    },
    {
      "cell_type": "code",
      "source": [
        "def f(a, k):\n",
        "    b = []\n",
        "    c = []\n",
        "    a = a.split()\n",
        "    for i in a:\n",
        "        b.append(i)\n",
        "        c.append(i)\n",
        "    for i in c:\n",
        "        while i in b:\n",
        "            k+= 1\n",
        "            b.remove(i)\n",
        "            c.remove(i)\n",
        "        else:\n",
        "            print(i, k)\n",
        "            k = 0\n",
        "    for i in c:\n",
        "        print(i, 1)\n",
        "f(input('введите слова:'), 0)"
      ],
      "metadata": {
        "id": "DgsmFeW5Po_x",
        "colab": {
          "base_uri": "https://localhost:8080/"
        },
        "outputId": "52a1db2b-024c-47de-836e-422e19639ebe"
      },
      "execution_count": null,
      "outputs": [
        {
          "output_type": "stream",
          "name": "stdout",
          "text": [
            "введите слова:персик щавель персик персик щавель лопата персик\n",
            "персик 4\n",
            "щавель 2\n",
            "лопата 1\n"
          ]
        }
      ]
    },
    {
      "cell_type": "markdown",
      "source": [
        "**Задача 5:**\n",
        "\n",
        "Этап 1:\n",
        "Детектор анаграмм Напишите программу на Python, которая принимает в качестве входных данных две строки и проверяет, являются ли они анаграммами друг друга\n",
        "\n",
        "Этап 2:\n",
        "Оформите ваш код в виде функции\n",
        "\n",
        "Ввод:\n",
        "```\n",
        "listen, silent\n",
        "```\n",
        "\n",
        "Вывод:\n",
        "\n",
        "```\n",
        "True\n",
        "```"
      ],
      "metadata": {
        "id": "5BmIJLUZP9I-"
      }
    },
    {
      "cell_type": "code",
      "source": [
        "def f(a):\n",
        "    k = 0\n",
        "    a = a.split()\n",
        "    a1 = a[0]\n",
        "    a2 = a[1]\n",
        "    for i in a1:\n",
        "        if i in a2:\n",
        "            k+= 1\n",
        "    if k == len(a1) == len(a2):\n",
        "        return True\n",
        "    else:\n",
        "        return False\n",
        "print(f(input('введите два слова через пробел:')))"
      ],
      "metadata": {
        "id": "7LNW8DuHQJwH",
        "outputId": "36a54f41-73ea-4f37-b3a8-588d8ee73e06",
        "colab": {
          "base_uri": "https://localhost:8080/"
        }
      },
      "execution_count": null,
      "outputs": [
        {
          "output_type": "stream",
          "name": "stdout",
          "text": [
            "введите два слова через пробел:слон нолс\n",
            "True\n"
          ]
        }
      ]
    },
    {
      "cell_type": "markdown",
      "source": [
        "**Задача 6:**\n",
        "\n",
        "Шифр ​​Цезаря\n",
        "\n",
        "Напишите программу на Python, которая реализует шифр Цезаря, простой метод шифрования, который заменяет каждую букву буквой на фиксированное количество позиций вниз по алфавиту. Программа должна запрашивать у пользователя сообщение и значение сдвига, а затем шифровать и расшифровывать сообщение.\n",
        "\n",
        "Этап 1:\n",
        "\n",
        "Напишите код для реализации данной задачи\n",
        "\n",
        "Этап 2:\n",
        "\n",
        "Оформите код в виде нескольких функций:\n",
        "\n",
        "* Зашифровывает сообщение\n",
        "* Расшифровывает сообщение"
      ],
      "metadata": {
        "id": "-SIWYSq2QKBh"
      }
    },
    {
      "cell_type": "code",
      "source": [
        "def coding(message,k):\n",
        "    code_message = ''\n",
        "    alphabet = 'абвгдеёжзийклмнопрстуфхцчшщъыьэюя'\n",
        "    for letter in message:\n",
        "        if letter == ' ':\n",
        "            code_message += ' '\n",
        "        else:\n",
        "\n",
        "            ind = alphabet.index(letter) + int(k)\n",
        "            code_message += alphabet[ind]\n",
        "    return code_message\n",
        "def decoding(message,k):\n",
        "    decode_message = ''\n",
        "    alphabet = 'абвгдеёжзийклмнопрстуфхцчшщъыьэюя'\n",
        "    for letter in message:\n",
        "        if letter == ' ':\n",
        "            decode_message += ' '\n",
        "        else:\n",
        "\n",
        "            ind = alphabet.index(letter) - int(k)\n",
        "            decode_message += alphabet[ind]\n",
        "    return decode_message\n",
        "d = input('что вы хотите сделать? 1 - зашифровать сообщение, 2 - расшифровать:')\n",
        "if d == '1':\n",
        "    print(coding(input('введите сообщение:'), input('введите шаг:')))\n",
        "elif d == '2':\n",
        "    print(decoding(input('введите сообщение:'), input('введите шаг:')))"
      ],
      "metadata": {
        "id": "anThYirsQe6N",
        "colab": {
          "base_uri": "https://localhost:8080/"
        },
        "outputId": "d91bd229-68c3-4941-eaf7-b1b8932333e1"
      },
      "execution_count": null,
      "outputs": [
        {
          "output_type": "stream",
          "name": "stdout",
          "text": [
            "что вы хотите сделать? 1 - зашифровать сообщение, 2 - расшифровать:1\n",
            "введите сообщение:шапка и паук тарелка\n",
            "введите шаг:4\n",
            "ьдуод м удчо цдфипод\n"
          ]
        }
      ]
    },
    {
      "cell_type": "markdown",
      "source": [
        "**Задача 7**\n",
        "\n",
        "Задача: «Банковская система»\n",
        "\n",
        "Создайте программу Python, которая имитирует базовую банковскую систему. Система должна иметь следующие функции:\n",
        "\n",
        "Требования\n",
        "*   Система должна позволять клиентам создавать счета и хранить их балансы.\n",
        "*   Система должна позволять клиентам вносить и снимать деньги со своих счетов.\n",
        "*   Система должна позволять клиентам проверять свой текущий баланс.\n",
        "*   Система должна позволять клиентам переводить деньги между счетами.\n",
        "*   Система должна отслеживать транзакции (депозиты, снятия и переводы) и иметь возможность печатать детали транзакций.\n",
        "\n",
        "\n",
        "Задачи\n",
        "1. Реализуйте банковскую систему, используя только базовые конструкции Python, такие как def, lists, if, elif и else, без классов или словарей.\n",
        "Определите функции для создания счетов, внесения и снятия денег, получения балансов счетов, перевода денег между счетами, а также создания и печати транзакций.\n",
        "2. Напишите основную функцию, которая демонстрирует использование банковской системы путем создания счетов, внесения и снятия денег и перевода денег между счетами.\n",
        "3. Бонусное задание\n",
        "Реализуйте способ хранения и печати истории транзакций для каждого счета.\n",
        "\n",
        "Ограничения\n",
        "Не используйте классы или словари.\n",
        "Используйте только базовые конструкции Python, такие как def, lists, if, elif и else.\n"
      ],
      "metadata": {
        "id": "avFZRRXrQz9O"
      }
    },
    {
      "cell_type": "code",
      "source": [],
      "metadata": {
        "colab": {
          "base_uri": "https://localhost:8080/"
        },
        "id": "dWEW10zIRwjs",
        "outputId": "761d1d03-5ecd-47b4-9ec3-d964c25fe29a"
      },
      "execution_count": null,
      "outputs": [
        {
          "output_type": "stream",
          "name": "stdout",
          "text": [
            "John Doe's current balance: $500\n",
            "Transaction: Initial deposit, $1000, deposit\n",
            "Transaction: Withdrawal, $500, withdrawal\n",
            "Jane Doe's current balance: $200\n"
          ]
        }
      ]
    }
  ]
}