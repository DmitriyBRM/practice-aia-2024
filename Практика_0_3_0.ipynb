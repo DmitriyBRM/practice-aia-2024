{
  "nbformat": 4,
  "nbformat_minor": 0,
  "metadata": {
    "colab": {
      "provenance": [],
      "include_colab_link": true
    },
    "kernelspec": {
      "name": "python3",
      "display_name": "Python 3"
    },
    "language_info": {
      "name": "python"
    }
  },
  "cells": [
    {
      "cell_type": "markdown",
      "metadata": {
        "id": "view-in-github",
        "colab_type": "text"
      },
      "source": [
        "<a href=\"https://colab.research.google.com/github/DmitriyBRM/practice-aia-2024/blob/main/%D0%9F%D1%80%D0%B0%D0%BA%D1%82%D0%B8%D0%BA%D0%B0_0_3_0.ipynb\" target=\"_parent\"><img src=\"https://colab.research.google.com/assets/colab-badge.svg\" alt=\"Open In Colab\"/></a>"
      ]
    },
    {
      "cell_type": "markdown",
      "source": [
        "ФИО"
      ],
      "metadata": {
        "id": "phMKaFq3DN13"
      }
    },
    {
      "cell_type": "code",
      "execution_count": null,
      "metadata": {
        "id": "3CWpaI7SDK8t"
      },
      "outputs": [],
      "source": [
        "Бурменский Дмитрий Викторович"
      ]
    },
    {
      "cell_type": "markdown",
      "source": [
        "**Во всей практике нельзя применять библиотеки предоставляющие готовые решения!**"
      ],
      "metadata": {
        "id": "jyIy3GOgFOCe"
      }
    },
    {
      "cell_type": "markdown",
      "source": [
        "# **Задача 1.**\n"
      ],
      "metadata": {
        "id": "XizmlL1RK2t3"
      }
    },
    {
      "cell_type": "markdown",
      "source": [
        "\n",
        "\n",
        "Типы данных Напишите программу на Python, которая принимает список чисел в качестве входных данных от пользователя, а затем выводит сумму, среднее значение и максимальное значение из списка.\n",
        "\n",
        "***Нельзя использовать: len(), min(), max(), average(), sum()***\n",
        "\n",
        "Дано:\n",
        "```\n",
        "1 2 3 4 5 6 7\n",
        "```\n",
        "Вывод:\n",
        "\n",
        "```\n",
        "Сумма чисел: 28\n",
        "Среднее арифм.: 4.0\n",
        "Максимальное значение: 7\n",
        "```\n",
        "\n"
      ],
      "metadata": {
        "id": "p0v6KtHTFKSd"
      }
    },
    {
      "cell_type": "code",
      "source": [
        "def f(x):\n",
        "    sum = 0\n",
        "    max_znach = 0\n",
        "    k = 0 #количество вводимых чисел\n",
        "    x = x.split()\n",
        "    for i in x:\n",
        "        i = int(i)\n",
        "        k+= 1\n",
        "        sum+= i\n",
        "        if i > max_znach:\n",
        "            max_znach = i\n",
        "\n",
        "    print('сумма чисел:', sum)\n",
        "    print('среднее арифм:', sum/k)\n",
        "    print('максимальное значение:', max_znach)\n",
        "\n",
        "print(f((input('введите числа через пробел:'))))"
      ],
      "metadata": {
        "id": "0e1Virl0FpF6",
        "colab": {
          "base_uri": "https://localhost:8080/"
        },
        "outputId": "1bf288dd-48cd-4588-dcc3-55467c6d3ac4"
      },
      "execution_count": null,
      "outputs": [
        {
          "output_type": "stream",
          "name": "stdout",
          "text": [
            "введите числа через пробел:1 2 3 4 5 6 7\n",
            "сумма чисел: 28\n",
            "среднее арифм: 4.0\n",
            "максимальное значение: 7\n",
            "None\n"
          ]
        }
      ]
    },
    {
      "cell_type": "markdown",
      "source": [
        "# **Задача 2.**"
      ],
      "metadata": {
        "id": "uFluc5OSK0NH"
      }
    },
    {
      "cell_type": "markdown",
      "source": [
        "\n",
        "Напишите программу на Python, которая принимает список слов в качестве входных данных от пользователя, а затем распечатывает список в обратном порядке.\n",
        "\n",
        "Ввод:\n",
        "\n",
        "```\n",
        "апельсин мандарин яблоко\n",
        "```\n",
        "\n",
        "Вывод:\n",
        "\n",
        "```\n",
        "яблоко мандарин апельсин\n",
        "```"
      ],
      "metadata": {
        "id": "6T8vg324GG4Z"
      }
    },
    {
      "cell_type": "code",
      "source": [
        "def f(slovo):\n",
        "    obr_slovo = ''\n",
        "    slovo = slovo.split()\n",
        "    for i in slovo:\n",
        "        obr_slovo = i + ' ' + obr_slovo\n",
        "    return obr_slovo\n",
        "print(f(input('введите слова:')))"
      ],
      "metadata": {
        "id": "v3AWj4ufGKox",
        "colab": {
          "base_uri": "https://localhost:8080/"
        },
        "outputId": "468f5a19-260a-427c-b630-63c31240c3ca"
      },
      "execution_count": null,
      "outputs": [
        {
          "output_type": "stream",
          "name": "stdout",
          "text": [
            "введите слова:персик щавель ракушка\n",
            "ракушка щавель персик \n"
          ]
        }
      ]
    },
    {
      "cell_type": "markdown",
      "source": [
        "# **Задача 3**"
      ],
      "metadata": {
        "id": "D1KkCxtIKxRx"
      }
    },
    {
      "cell_type": "markdown",
      "source": [
        "Простой чат-бот\n",
        "Создайте простого чат-бота, который отвечает на основные запросы пользователей. Программа должна использовать условные выражения для определения намерений пользователя и последующего соответствующего ответа.\n",
        "\n",
        "Чат бот может:\n",
        "\n",
        "- помогать складывать числа\n",
        "- подсказывать фильм, музыку и тд (из заранее созданного списка)\n",
        "- создавать список дел (а также выводить его, обновлять, очищать)\n",
        "\n",
        "Интерфейс чат-бота на ваше усмотрение, это могут быть как заранее определенные команды, так и к примеру вызов команды по номеру\n",
        "\n",
        "*Реализовать без использования функций*\n",
        "\n",
        "Пример:\n",
        "\n",
        "Ввод:\n",
        "\n",
        "```\n",
        "Олег, какую мызыку посоветуешь?\n",
        "```\n",
        "\n",
        "Вывод:\n",
        "\n",
        "```\n",
        "Я бы посоветовал вам: Led Zeppelin Stairway to Heaven\n",
        "```"
      ],
      "metadata": {
        "id": "Yq8Jgb9yHvSi"
      }
    },
    {
      "cell_type": "code",
      "source": [
        "import random\n",
        "##################################################################\n",
        "m = ['музыку', 'музыка', 'мбюзик'] #базы ключевых слов#\n",
        "summ = ['сложи', 'сумма', 'сумму'] ####################\n",
        "f = 'фильм'\n",
        "delo = ['запиши', 'сделать', 'запомни', 'нужно']\n",
        "zapiska = ['список дел', 'список', 'дела']\n",
        "chisla = '1234567890'\n",
        "baza_music = ['yung lean gatorade ', 'yung lean kyoto', 'asap rocky LVL']\n",
        "baza_film = ['интерстеллар', 'аватар', 'джентельмены']\n",
        "spisok_del = []\n",
        "move_spisok = ['удали']\n",
        "####################################################################\n",
        "n = 0\n",
        "print('Привет! Я - бот Глеб. Буду полезен, пока вы не скажете слово СТОП')\n",
        "while n != 'стоп':\n",
        "\n",
        "    a = input('введите запрос:')\n",
        "    n = a\n",
        "    # совет музыки\n",
        "    if m[0]  in a or m[1]  in a or m[2]  in a :\n",
        "        print('я бы посоветовал вам:', random.choice(baza_music))\n",
        "    # совет фильма\n",
        "    elif f in a:\n",
        "        print('я бы посоетовал посмотреть:', random.choice(baza_film))\n",
        "    ####################### список дел ############################\n",
        "    # запись дела\n",
        "    elif delo[0] in a or delo[1] in a or delo[2] in a or delo[3] in a:\n",
        "        print('записал, что нужно', a)\n",
        "        spisok_del.append(a)\n",
        "    # вывод сиска дел\n",
        "    elif zapiska[0] in a or zapiska[1] in a or zapiska[2] in a:\n",
        "        print('конечно! вот ваши дела:')\n",
        "        k = 1\n",
        "        for i in spisok_del:\n",
        "            print(k, i)\n",
        "            k+= 1\n",
        "    # удаление элемента списка\n",
        "    elif move_spisok[0] in a:\n",
        "        a = a.split()\n",
        "        for i in a:\n",
        "            if i in chisla:\n",
        "                print('конечно! удалил записку номер', i)\n",
        "                spisok_del.remove(spisok_del[int(i)-1])\n",
        "    ####################################################################\n",
        "\n",
        "    # суммирование\n",
        "    elif summ[0]  in a or summ[1]  in a or summ[2]  in  a:\n",
        "        ch = input('введите числа через пробел:')\n",
        "        ch =ch.split()\n",
        "        summa = 0\n",
        "        for i in ch:\n",
        "            summa+= int(i)\n",
        "        print('сумма:', summa)\n",
        "    elif a == 'стоп':\n",
        "        print('всего хорошего!')\n",
        "\n",
        "\n",
        "    else:\n",
        "        print('уточните запрос')"
      ],
      "metadata": {
        "id": "fmW-tmUtINN9",
        "colab": {
          "base_uri": "https://localhost:8080/"
        },
        "outputId": "5fe794c9-d944-4e87-c0e6-87ee8dfde35f"
      },
      "execution_count": null,
      "outputs": [
        {
          "output_type": "stream",
          "name": "stdout",
          "text": [
            "Привет! Я - бот Глеб. Буду полезен, пока вы не скажете слово СТОП\n",
            "введите запрос:запомни щавель\n",
            "записал, что нужно запомни щавель\n",
            "введите запрос:запомни персик\n",
            "записал, что нужно запомни персик\n",
            "введите запрос:список\n",
            "конечно! вот ваши дела:\n",
            "1 запомни щавель\n",
            "2 запомни персик\n",
            "введите запрос:удали 1\n",
            "конечно! удалил записку номер 1\n",
            "введите запрос:список\n",
            "конечно! вот ваши дела:\n",
            "1 запомни персик\n",
            "введите запрос:стоп\n",
            "всего хорошего!\n"
          ]
        }
      ]
    },
    {
      "cell_type": "markdown",
      "source": [
        "# **Задача 4.**\n"
      ],
      "metadata": {
        "id": "PHXBfyc6Ko7D"
      }
    },
    {
      "cell_type": "markdown",
      "source": [
        "Камень, ножницы, бумага\n",
        "\n",
        "Создайте игру в Камень, ножницы, бумагу, в которой пользователь может играть против компьютера. Программа должна запросить выбор пользователя, а затем сгенерировать выбор компьютера. Затем программа должна определить победителя на основе правил игры.\n",
        "\n",
        "**Этап 1:**\n",
        "\n",
        "Определение победителя\n",
        "\n",
        "**Этап 2:**\n",
        "  \n",
        "Игра до 3 побед\n",
        "\n",
        "\n",
        "Ввод для \"Этап 1\":\n",
        "\n",
        "```\n",
        "Камень\n",
        "```\n",
        "\n",
        "Вывод:\n",
        "\n",
        "```\n",
        "Компьютер: Ножницы\n",
        "Игрок: Камень\n",
        "Победа: Игрок\n",
        "```"
      ],
      "metadata": {
        "id": "jnKWeYleI0j6"
      }
    },
    {
      "cell_type": "code",
      "source": [
        "import random\n",
        "\n",
        "def f(x, y, a, b):\n",
        "    if x == 'камень' and y == 'ножницы':\n",
        "        a+= 1\n",
        "    if x == 'камень' and y == 'бумага':\n",
        "        b+= 1\n",
        "    if x == 'ножницы' and y == 'камень':\n",
        "        b+= 1\n",
        "    if x == 'ножницы' and y == 'бумага':\n",
        "        a+= 1\n",
        "    if x == 'бумага' and y == 'ножницы':\n",
        "        b+= 1\n",
        "    if x == 'бумага' and y == 'камень':\n",
        "        a+= 1\n",
        "    if x == 'камень' and y == 'камень':\n",
        "        a+= 1\n",
        "        b+= 1\n",
        "    if x == 'ножницы' and y == 'ножницы':\n",
        "        a+= 1\n",
        "        b+= 1\n",
        "    return a, b\n",
        "\n",
        "\n",
        "hod = ['камень', 'ножницы','бумага']\n",
        "a, b = 0,0\n",
        "while a < 3 and b < 3:\n",
        "\n",
        "    hod_chelovek = input('введите ваш ход:')\n",
        "    print('_____________________________________')\n",
        "    ran = random.choice(hod)\n",
        "    r = (f(ran, hod_chelovek, a, b))\n",
        "    print('компьютер:', ran)\n",
        "    print('игрок:', hod_chelovek)\n",
        "    print('счет:', r)\n",
        "\n",
        "    a, b = r\n",
        "\n",
        "else:\n",
        "    if a == 3:\n",
        "        print('победил комп')\n",
        "    elif b == 3:\n",
        "        print('вы победили')"
      ],
      "metadata": {
        "id": "ooIPCRe_JHkX",
        "colab": {
          "base_uri": "https://localhost:8080/"
        },
        "outputId": "15f0c6c4-56ea-4984-e315-17e81aadf3ff"
      },
      "execution_count": null,
      "outputs": [
        {
          "output_type": "stream",
          "name": "stdout",
          "text": [
            "введите ваш ход:камень\n",
            "_____________________________________\n",
            "компьютер: бумага\n",
            "игрок: камень\n",
            "счет: (1, 0)\n",
            "введите ваш ход:камень\n",
            "_____________________________________\n",
            "компьютер: камень\n",
            "игрок: камень\n",
            "счет: (2, 1)\n",
            "введите ваш ход:бумага\n",
            "_____________________________________\n",
            "компьютер: ножницы\n",
            "игрок: бумага\n",
            "счет: (3, 1)\n",
            "победил комп\n"
          ]
        }
      ]
    },
    {
      "cell_type": "markdown",
      "source": [
        "# **Задача 6.**"
      ],
      "metadata": {
        "id": "Hg4FJNFbLHQO"
      }
    },
    {
      "cell_type": "markdown",
      "source": [
        "Создайте игру \"Палач\" или \"Виселица\", в которой пользователь должен угадать слово, предлагая буквы. Программа должна выбрать случайное слово, а затем разрешить пользователю угадывать буквы. После каждого угадывания программа должна сообщать пользователю, есть ли в слове буква или нет.\n",
        "\n",
        "**Этап 1**\n",
        "Создать саму игру\n",
        "\n",
        "**Этап 2:**\n",
        "Ввести подсчет количества очков и ограничения на попытки\n",
        "\n",
        "**Этап 3:** Добавить возможность сразу угадать слово"
      ],
      "metadata": {
        "id": "OHqj3HJuLJgY"
      }
    },
    {
      "cell_type": "code",
      "source": [],
      "metadata": {
        "id": "0N2zCYwVLiIw"
      },
      "execution_count": null,
      "outputs": []
    },
    {
      "cell_type": "markdown",
      "source": [
        "# **Дополнительно: Задача 7.**\n"
      ],
      "metadata": {
        "id": "w0x3QFGzKtDD"
      }
    },
    {
      "cell_type": "markdown",
      "source": [
        "\n",
        "**Цифра на определенном месте:**\n",
        "\n",
        "Последовательно записан натуральный ряд чисел.\n",
        "\n",
        "Какая цифра стоит в N позиции\n",
        "\n",
        "\n",
        "Вввод:\n",
        "\n",
        "```\n",
        "Введите номер позиции: 1234567890\n",
        "```\n",
        "\n",
        "Вывод:\n",
        "\n",
        "```\n",
        "8\n",
        "```"
      ],
      "metadata": {
        "id": "QqZArcpHJxVj"
      }
    },
    {
      "cell_type": "code",
      "source": [],
      "metadata": {
        "id": "LwjYwBGcKiJ9"
      },
      "execution_count": null,
      "outputs": []
    }
  ]
}