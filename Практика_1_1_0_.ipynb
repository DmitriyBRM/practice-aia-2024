{
  "nbformat": 4,
  "nbformat_minor": 0,
  "metadata": {
    "colab": {
      "provenance": [],
      "collapsed_sections": [
        "H4DrYnJjADuZ",
        "ih7iPlYfB7lL",
        "F7mRVsZjCXk0"
      ],
      "include_colab_link": true
    },
    "kernelspec": {
      "name": "python3",
      "display_name": "Python 3"
    },
    "language_info": {
      "name": "python"
    }
  },
  "cells": [
    {
      "cell_type": "markdown",
      "metadata": {
        "id": "view-in-github",
        "colab_type": "text"
      },
      "source": [
        "<a href=\"https://colab.research.google.com/github/DmitriyBRM/practice-aia-2024/blob/main/%D0%9F%D1%80%D0%B0%D0%BA%D1%82%D0%B8%D0%BA%D0%B0_1_1_0_.ipynb\" target=\"_parent\"><img src=\"https://colab.research.google.com/assets/colab-badge.svg\" alt=\"Open In Colab\"/></a>"
      ]
    },
    {
      "cell_type": "markdown",
      "source": [
        "**ФИО:**"
      ],
      "metadata": {
        "id": "GEsFKJm-ABFp"
      }
    },
    {
      "cell_type": "code",
      "execution_count": null,
      "metadata": {
        "id": "wZMLYG_G_-19"
      },
      "outputs": [],
      "source": [
        "Бурменский Дмитрий Викторович"
      ]
    },
    {
      "cell_type": "markdown",
      "source": [
        "# Задание 1"
      ],
      "metadata": {
        "id": "H4DrYnJjADuZ"
      }
    },
    {
      "cell_type": "markdown",
      "source": [
        "**Описание:** Создайте иерархию классов для разных типов сотрудников в компании. Реализуйте родительский класс Employee и дочерние классы Manager и Developer. Каждый класс должен иметь метод для расчета зарплаты на основе различных критериев класса.\n",
        "\n",
        "\n",
        "Отрабатываемый принцип: Наследование\n",
        "\n"
      ],
      "metadata": {
        "id": "C17FWep-AF4a"
      }
    },
    {
      "cell_type": "code",
      "source": [
        "class Employee:\n",
        "    baseRate = 1000\n",
        "\n",
        "    def __init__(self, name, surname, hours):\n",
        "        self.name = name\n",
        "        self.surname = surname\n",
        "        self.hours = hours\n",
        "        self.salary = hours * self.baseRate\n",
        "\n",
        "\n",
        "class Manager(Employee):\n",
        "    allowance = 2.4\n",
        "\n",
        "    def __init__(self, name, surname, hours):\n",
        "        super().__init__(name, surname, hours)\n",
        "        self.salary  *= self.allowance\n",
        "\n",
        "\n",
        "class Developer(Manager):\n",
        "    allowance = 3.6\n",
        "\n",
        "    def __init__(self, name, surname, hours, projects):\n",
        "        self.projectsPerMonth = projects\n",
        "        super().__init__(name, surname, hours)\n",
        "        self.salary  *= self.allowance * self.projectsPerMonth\n",
        "\n",
        "\n",
        "employee1 = Employee('ваня', 'грибков', 12)\n",
        "employeeManager = Manager('костя', 'щепкин', 8)\n",
        "employeeDeveloper = Developer('борис', 'нечаев', 8, 4)\n",
        "print(f'ИФ: {employee1.name} {employee1.surname}, часы работы({employee1.hours})\\\n",
        ", ЗП: {employee1.salary}')\n",
        "print(f'ИФ: {employeeManager.name} {employeeManager.surname}, часы работы\\\n",
        "({employeeManager.hours}), ЗП: {employeeManager.salary}')\n",
        "print(f'ИФ: {employeeDeveloper.name} {employeeDeveloper.surname}, часы работы\\\n",
        "({employeeDeveloper.hours}), ЗП: {employeeDeveloper.salary}')"
      ],
      "metadata": {
        "id": "aexGXzqCAFH7",
        "colab": {
          "base_uri": "https://localhost:8080/"
        },
        "outputId": "c5ffba73-3796-4607-a039-293725e1800c"
      },
      "execution_count": null,
      "outputs": [
        {
          "output_type": "stream",
          "name": "stdout",
          "text": [
            "ИФ: ваня грибков, часы работы(12), ЗП: 12000\n",
            "ИФ: костя щепкин, часы работы(8), ЗП: 19200.0\n",
            "ИФ: борис нечаев, часы работы(8), ЗП: 414720.0\n"
          ]
        }
      ]
    },
    {
      "cell_type": "markdown",
      "source": [
        "# Задание 2"
      ],
      "metadata": {
        "id": "ERAi0TG5BI6v"
      }
    },
    {
      "cell_type": "markdown",
      "source": [
        "**Описание:** Создайте иерархию классов для различных типов транспортных средств (Необходим один родительский класс и 3 дочерних). Реализуйте метод, который позволяет каждому транспортному средству возвращать собственное описание (Метод в каждом классе должен иметь одинаковое название). Продемонстрируйте вызов данного метода для каждого транспортного средства.\n",
        "\n",
        "\n",
        "Отрабатываемый принцип: Полиморфизм"
      ],
      "metadata": {
        "id": "sJ3k7ZcgBK87"
      }
    },
    {
      "cell_type": "code",
      "source": [
        "class Transport:\n",
        "\n",
        "    def __init__(self, name, maxSpeed, color):\n",
        "        self.name = name\n",
        "        self.maxSpeed = maxSpeed\n",
        "        self.color = color\n",
        "\n",
        "\n",
        "class Car(Transport):\n",
        "\n",
        "    def __init__(self, name, maxSpeed, color, bodyType):\n",
        "        self.bodytype = bodyType\n",
        "        super().__init__(name, maxSpeed, color)\n",
        "\n",
        "    def show(self):\n",
        "        print(f'машина {self.name}, в кузове {self.bodytype} цвет {self.color}, с максимальной скоростью {self.maxSpeed} ')\n",
        "\n",
        "\n",
        "class Plane(Transport):\n",
        "\n",
        "    def __init__(self, name, maxSpeed, color, maxHeight):\n",
        "        self.maxHeight = maxHeight\n",
        "        super().__init__(name, maxSpeed, color)\n",
        "\n",
        "    def show(self):\n",
        "        print(f'самолет {self.name}, в цвете {self.color} способен лететь до {self.maxSpeed} км/ч и не выше {self.maxHeight} метров')\n",
        "\n",
        "\n",
        "class Yacht(Transport):\n",
        "\n",
        "    def __init__(self, name, maxSpeed, color, clas):\n",
        "        self.clas = clas\n",
        "        super().__init__(name, maxSpeed, color)\n",
        "\n",
        "    def show(self):\n",
        "        print(f'яхта {self.name}, класса {self.clas} в цвете {self.color} способна плыть до {self.maxSpeed} узлов')\n",
        "\n",
        "\n",
        "car = Car('мерс', '260', 'черный', 'купе')\n",
        "plane = Plane('авиасейлс', '965', 'зеленый', '13140')\n",
        "yacht = Yacht('аврора', '26', 'хаки', 'B')\n",
        "\n",
        "\n",
        "yacht.show()\n",
        "plane.show()\n",
        "car.show()"
      ],
      "metadata": {
        "id": "WOFOZQmDBKf4"
      },
      "execution_count": null,
      "outputs": []
    },
    {
      "cell_type": "markdown",
      "source": [
        "# Задание 3"
      ],
      "metadata": {
        "id": "7E_SJXMJBvD4"
      }
    },
    {
      "cell_type": "markdown",
      "source": [
        "Онлайн-магазин:\n",
        "- Создайте модель для онлайн-магазина с классами Product, Order, Customer, и ShoppingCart.\n",
        "- Product включает информацию о цене, наличии на складе и категории товара.\n",
        "Order обрабатывает процесс покупки, включая расчет цены с учетом скидок и налогов.\n",
        "- Customer управляет информацией о пользователе и его истории заказов.\n",
        "- ShoppingCart позволяет добавлять, удалять и обновлять количество товаров перед оформлением заказа.\n"
      ],
      "metadata": {
        "id": "dd1mwKj_BxHa"
      }
    },
    {
      "cell_type": "code",
      "source": [
        "\n",
        "class Product:\n",
        "\n",
        "    def __init__(self, name, price, availability, category):\n",
        "        self.name = name\n",
        "        self.price = price\n",
        "        self.availability = availability\n",
        "        self.category = category\n",
        "\n",
        "    def showProducts(self):\n",
        "        print(f'{self.name}({self.category}) | цена {self.price} $ | {self.availability}')\n",
        "\n",
        "\n",
        "class ShoppingCart():\n",
        "    cart = {}\n",
        "\n",
        "    def addToCart(self, n, p):\n",
        "        self.cart[n] = p\n",
        "\n",
        "        print('товар добавлен')\n",
        "\n",
        "    def showCart(self):\n",
        "        if self.cart != {}:\n",
        "            print('вот ваша корзина')\n",
        "            print(self.cart)\n",
        "\n",
        "        else:\n",
        "            print('ваша корзина пуста')\n",
        "\n",
        "    def deletCart(self, n):\n",
        "        del self.cart[n]\n",
        "\n",
        "        print('товар удален')\n",
        "\n",
        "class Customer:\n",
        "    orders = []\n",
        "\n",
        "    def PurchaseHistory(self, name):\n",
        "        self.orders.append(name)\n",
        "\n",
        "\n",
        "class Order(ShoppingCart):\n",
        "    nds = 1.20\n",
        "    amount = 0\n",
        "    cart = ShoppingCart.cart\n",
        "\n",
        "    def purchase(self):\n",
        "        p = Customer()\n",
        "        self.amount = 0\n",
        "\n",
        "        for name, cost in self.cart.items():\n",
        "            self.amount += (float(cost) * self.nds)\n",
        "\n",
        "            p.PurchaseHistory(name)\n",
        "\n",
        "        print('спасибо за покупку!')\n",
        "        print(f'вы заплатили {self.amount} $')\n",
        "\n",
        "        ShoppingCart.cart.clear()\n",
        "\n",
        "\n",
        "product1 = Product('Carhartt', '10000', 'в наличии', 'джинсы')\n",
        "product2 = Product('Nike', '12000', 'в наличии', 'куртки')\n",
        "product3 = Product('Puma', '12000', 'нет в наличии', 'кроссовки')\n",
        "\n",
        "products = [product1, product2, product3]\n",
        "move = None\n",
        "\n",
        "\n",
        "while move != 7:\n",
        "    print('1) посмотреть товары')\n",
        "    print('2) добавить товар в корзину')\n",
        "    print('3) посмотреть корзину')\n",
        "    print('4) удалить товар из корзины')\n",
        "    print('5) покупка')\n",
        "    print('6) история покупок')\n",
        "    print('7) выход')\n",
        "\n",
        "    move = int(input('введите действие: '))\n",
        "\n",
        "    if move == 1:\n",
        "        k = 0\n",
        "\n",
        "        for p in products:\n",
        "            k+= 1\n",
        "            print(f'{k}|', end=' '), p.showProducts()\n",
        "\n",
        "    if move == 2:\n",
        "        number = int(input('ввдеите номер товара: '))\n",
        "\n",
        "        if products[number - 1].availability == 'в наличии':\n",
        "            p = ShoppingCart()\n",
        "            p.addToCart(products[number - 1].name, products[number - 1].price)\n",
        "\n",
        "        else:\n",
        "            print('товара нет в наличии')\n",
        "\n",
        "    if move == 3:\n",
        "        p = ShoppingCart()\n",
        "        p.showCart()\n",
        "\n",
        "    if move == 4:\n",
        "        p = ShoppingCart()\n",
        "        p.showCart()\n",
        "\n",
        "        name = input('ввдеите название товара: ')\n",
        "        p.deletCart(name)\n",
        "\n",
        "    if move == 5:\n",
        "        p = Order()\n",
        "        p.purchase()\n",
        "\n",
        "    if move == 6:\n",
        "        print('ваши покупки:')\n",
        "        print(Customer.orders)\n",
        "\n",
        "    elif move == 7:\n",
        "        print('всего хорошего!')\n",
        "        break"
      ],
      "metadata": {
        "id": "wkCcv_K-Bwdv"
      },
      "execution_count": null,
      "outputs": []
    },
    {
      "cell_type": "markdown",
      "source": [
        "# Задание 4"
      ],
      "metadata": {
        "id": "ih7iPlYfB7lL"
      }
    },
    {
      "cell_type": "markdown",
      "source": [
        "Симулятор космического корабля:\n",
        "- Создайте симулятор управления космическим кораблем с классами SpaceShip, CrewMember, и Mission.\n",
        "- SpaceShip имеет атрибуты для управления топливом, состоянием корпуса, и текущей скоростью.\n",
        "- CrewMember контролирует здоровье, навыки, и роли в команде (например, пилот, инженер).\n",
        "- Mission определяет цели, ресурсы, и возможные события (например, аварии, встречи с астероидами)."
      ],
      "metadata": {
        "id": "zLwqVCbpCBvc"
      }
    },
    {
      "cell_type": "code",
      "source": [],
      "metadata": {
        "id": "4NyrOOy8B9ED"
      },
      "execution_count": null,
      "outputs": []
    },
    {
      "cell_type": "markdown",
      "source": [
        "# Дополнительно:"
      ],
      "metadata": {
        "id": "F7mRVsZjCXk0"
      }
    },
    {
      "cell_type": "markdown",
      "source": [
        "**Описание:** создайте консольную версию игры крестики-нолики, используя классы"
      ],
      "metadata": {
        "id": "X4Lkf86UCc1h"
      }
    },
    {
      "cell_type": "code",
      "source": [],
      "metadata": {
        "id": "x9OxpNsyCcUo"
      },
      "execution_count": null,
      "outputs": []
    }
  ]
}