{
  "nbformat": 4,
  "nbformat_minor": 0,
  "metadata": {
    "colab": {
      "provenance": [],
      "collapsed_sections": [
        "Gtm1UjYgDlY7",
        "FYjU9WmVDoGs",
        "Ci07uZdADue9",
        "rtwepQvJDy9N",
        "0UoRc9vOD3XT"
      ],
      "include_colab_link": true
    },
    "kernelspec": {
      "name": "python3",
      "display_name": "Python 3"
    },
    "language_info": {
      "name": "python"
    }
  },
  "cells": [
    {
      "cell_type": "markdown",
      "metadata": {
        "id": "view-in-github",
        "colab_type": "text"
      },
      "source": [
        "<a href=\"https://colab.research.google.com/github/DmitriyBRM/practice-aia-2024/blob/main/%D0%9F%D1%80%D0%B0%D0%BA%D1%82%D0%B8%D0%BA%D0%B0_0_7_0_.ipynb\" target=\"_parent\"><img src=\"https://colab.research.google.com/assets/colab-badge.svg\" alt=\"Open In Colab\"/></a>"
      ]
    },
    {
      "cell_type": "markdown",
      "source": [
        "Ссылка на материалы:  [пдф тут](https://drive.google.com/file/d/16Cm2tgrpuDH8eIdxdSYyOsfDPqnJ3byd/view?usp=sharing)"
      ],
      "metadata": {
        "id": "M9IlAZAPBBm9"
      }
    },
    {
      "cell_type": "markdown",
      "source": [
        "ФИО:"
      ],
      "metadata": {
        "id": "ZLVI_WIcuT56"
      }
    },
    {
      "cell_type": "code",
      "source": [
        "Бурменский Дмитрий Викторович"
      ],
      "metadata": {
        "id": "3AfG_Tal0P2S"
      },
      "execution_count": null,
      "outputs": []
    },
    {
      "cell_type": "markdown",
      "source": [
        "## Задание 1. HTTP-запросы, ответы и погода"
      ],
      "metadata": {
        "id": "Gtm1UjYgDlY7"
      }
    },
    {
      "cell_type": "markdown",
      "source": [
        "Описание:\n",
        "\n",
        "Напишите HTTP-запрос для получения информации о погоде в введенном городе из API.\n",
        "\n",
        "Можно использовать API: https://open-meteo.com/. Используйте метод GET.\n",
        "\n",
        "\n",
        "Ввод\n",
        "```\n",
        "56.50, 60.35\n",
        "```\n",
        "\n",
        "Вывод\n",
        "```\n",
        "Сегодня (1.11) погода 20 ◦С, нет осадков, туман\n",
        "```\n",
        "\n",
        "\n",
        "\n"
      ],
      "metadata": {
        "id": "FtjnLNIKzfMZ"
      }
    },
    {
      "cell_type": "code",
      "source": [
        "pip install requests"
      ],
      "metadata": {
        "id": "QbRXDm8mP2xr"
      },
      "execution_count": null,
      "outputs": []
    },
    {
      "cell_type": "code",
      "source": [
        "import requests\n",
        "from datetime import *\n",
        "\n",
        "def send_request(url):\n",
        "\n",
        "    response = requests.get(url)\n",
        "\n",
        "    if response.status_code == 200:\n",
        "        return response.json()\n",
        "\n",
        "\n",
        "def clear_data(data):\n",
        "    temperature = data['current']['temperature_2m']\n",
        "    temperature_format = data['current_units']['temperature_2m']\n",
        "\n",
        "    current_date = datetime.today().date()\n",
        "    current_date = f'{current_date.day}.{current_date.month}.\\\n",
        "{current_date.year}'\n",
        "\n",
        "    weather_code = data['current']['weather_code']\n",
        "\n",
        "    town = data['timezone']\n",
        "\n",
        "    if weather_code == 2:\n",
        "        weather = 'нет осадков'\n",
        "    elif weather_code == '61' or weather_code == '63' or weather_code == '65':\n",
        "        weather = 'дождь'\n",
        "    elif weather_code == 0:\n",
        "        weather = 'Ясное небо'\n",
        "    elif weather_code == 3:\n",
        "        weather = 'пасмурно'\n",
        "    elif weather_code == 45:\n",
        "        weather = 'туман'\n",
        "    elif weather_code == '71' or weather_code == '73' or weather_code == '35':\n",
        "        weather = 'снег'\n",
        "    else:\n",
        "        weather = 'выгляни в окно'\n",
        "\n",
        "\n",
        "    information = f'сегодня ({current_date}) в {town},\\\n",
        " температура {temperature}{temperature_format}, {weather}'\n",
        "    return information\n",
        "\n",
        "\n",
        "def main(url):\n",
        "    data = send_request(url)\n",
        "    message = clear_data(data)\n",
        "    print(message)\n",
        "\n",
        "url = 'https://api.open-meteo.com/v1/forecast?latitude=56.8519&\\\n",
        "longitude=60.6122&current=temperature_2m,precipitation,\\\n",
        "weather_code&timezone=auto&forecast_days=1'\n",
        "\n",
        "send_request(url)\n",
        "main(url)"
      ],
      "metadata": {
        "id": "5Mbs40_buVRV",
        "colab": {
          "base_uri": "https://localhost:8080/"
        },
        "outputId": "32078913-5c9d-42f7-ce3c-45f353e1d8da"
      },
      "execution_count": null,
      "outputs": [
        {
          "output_type": "stream",
          "name": "stdout",
          "text": [
            "сегодня (2.11.2024) в Asia/Yekaterinburg, температура 3.2°C, выгляни в окно\n"
          ]
        }
      ]
    },
    {
      "cell_type": "markdown",
      "source": [
        "## Задание 2. HTTP-запросы, ответы и покемоны"
      ],
      "metadata": {
        "id": "FYjU9WmVDoGs"
      }
    },
    {
      "cell_type": "markdown",
      "source": [
        "**Описание:**\n",
        "\n",
        "\n",
        "Создайте код программы, которая будет взаимодействовать с API, со следующим функионалом:\n",
        "\n",
        "1. Используя метод GET, отправьте запрос на endpoint /pokemon, чтобы получить список первых 20 покемонов\n",
        "\n",
        "2. Извлеките имена покемонов из ответа и выведите их списком\n",
        "\n",
        "3. Введите с помощью input() название одного из покемонов\n",
        "\n",
        "\n",
        "```\n",
        "Имя покемона: clefairy\n",
        "```\n",
        "\n",
        "\n",
        "\n",
        "4. Отправьте GET-запрос, чтобы получить полную информацию о выбранном покемоне\n",
        "\n",
        "5. Извлеките и выведите следующие данные о введенном покемоне:\n",
        "\n",
        "     • Имя\n",
        "\n",
        "     • Тип\n",
        "\n",
        "     • Вес\n",
        "\n",
        "     • Рост\n",
        "\n",
        "     • Способности\n",
        "\n",
        "Используйте PokéAPI (https://pokeapi.co/), который предоставляет информацию о покемонах, их характеристиках, типах и другую информацию."
      ],
      "metadata": {
        "id": "oZ1guEbl0PZm"
      }
    },
    {
      "cell_type": "code",
      "source": [
        "import requests"
      ],
      "metadata": {
        "id": "dpLT8ST92L8B"
      },
      "execution_count": null,
      "outputs": []
    },
    {
      "cell_type": "code",
      "source": [
        "import requests\n",
        "\n",
        "\n",
        "name20_list = []\n",
        "\n",
        "############################################\n",
        "\n",
        "def send_request(url):\n",
        "\n",
        "    response = requests.get(url)\n",
        "\n",
        "    if response.status_code == 200:\n",
        "        return response.json()\n",
        "\n",
        "############################################\n",
        "\n",
        "\n",
        "def pokemon_name(data):\n",
        "    name = data['name']\n",
        "\n",
        "    return name\n",
        "\n",
        "\n",
        "def pokemon_info(data):\n",
        "\n",
        "    name = data['name']\n",
        "    pokemon_type = data['types'][0]['type']['name']\n",
        "    height = data['height']\n",
        "    weight = data['weight']\n",
        "    abilities = []\n",
        "    amount_abilities = len(data['abilities'])\n",
        "\n",
        "    for number_ability in range(amount_abilities):\n",
        "        abilities.append(data['abilities'][number_ability]['ability']['name'])\n",
        "\n",
        "    information = f'имя: {name}, тип: {pokemon_type}, рост: {height},\\\n",
        " вес:{weight}, способности: {\", \".join(abilities)}'\n",
        "\n",
        "    return information\n",
        "\n",
        "def main(url):\n",
        "\n",
        "    data = send_request(url)\n",
        "    message = pokemon_name(data)\n",
        "\n",
        "    return message\n",
        "\n",
        "def main2(url):\n",
        "\n",
        "    data = send_request(url)\n",
        "    message = pokemon_info(data)\n",
        "\n",
        "    return message\n",
        "\n",
        "\n",
        "\n",
        "for i in range(1, 20):\n",
        "\n",
        "    url = f'https://pokeapi.co/api/v2/pokemon/{i}/'\n",
        "    name20_list.append(main(url))\n",
        "\n",
        "\n",
        "print(name20_list)\n",
        "\n",
        "\n",
        "name_info = (input('введите имя покемона:'))\n",
        "\n",
        "info = main2(f'https://pokeapi.co/api/v2/pokemon/{name_info}/')\n",
        "\n",
        "print(info)"
      ],
      "metadata": {
        "id": "JkFmivjp25NL",
        "colab": {
          "base_uri": "https://localhost:8080/"
        },
        "outputId": "75f31800-9438-43ad-993b-be7982a0ec6b"
      },
      "execution_count": null,
      "outputs": [
        {
          "output_type": "stream",
          "name": "stdout",
          "text": [
            "['bulbasaur', 'ivysaur', 'venusaur', 'charmander', 'charmeleon', 'charizard', 'squirtle', 'wartortle', 'blastoise', 'caterpie', 'metapod', 'butterfree', 'weedle', 'kakuna', 'beedrill', 'pidgey', 'pidgeotto', 'pidgeot', 'rattata']\n",
            "введите имя покемона:kakuna\n",
            "имя: kakuna, тип: bug, рост: 6, вес:100, способности: shed-skin\n"
          ]
        }
      ]
    },
    {
      "cell_type": "markdown",
      "source": [
        "## Задание 3. HTTP-запросы, ответы и посты"
      ],
      "metadata": {
        "id": "Ci07uZdADue9"
      }
    },
    {
      "cell_type": "markdown",
      "source": [
        "**Описание:**\n",
        "\n",
        "Создайте программу, которая будет взаимодействовать с JSONPlaceholder API, реализуя следующие функции:\n",
        "\n",
        "1. Реализуйте функцию, которая выполняет GET-запрос к https://jsonplaceholder.typicode.com/posts и возвращает список постов в формате JSON\n",
        "\n",
        "2. Реализуйте функцию, котороая получает вводимое ID поста, выполняет GET-запрос по ID и возвращает данные поста в формате JSON\n",
        "\n",
        "3. Реализуйте функцию, которая выполняет обработку JSON из пункта 2 и выводит всю важную информацию в консоль"
      ],
      "metadata": {
        "id": "h194KTer1-B3"
      }
    },
    {
      "cell_type": "code",
      "source": [
        "import requests\n",
        "\n",
        "\n",
        "url = 'https://jsonplaceholder.typicode.com/posts/'\n",
        "\n",
        "\n",
        "def send_request(url):\n",
        "\n",
        "    response = requests.get(url)\n",
        "\n",
        "    if response.status_code == 200:\n",
        "        return response.json()\n",
        "\n",
        "\n",
        "def post_info(posts_id):\n",
        "\n",
        "    url = f'https://jsonplaceholder.typicode.com/posts/{posts_id}'\n",
        "    data = send_request(url)\n",
        "\n",
        "    return data\n",
        "\n",
        "def main_info(data):\n",
        "    userId = data['userId']\n",
        "    postId = data['id']\n",
        "    title = data['title']\n",
        "    body = data['body']\n",
        "\n",
        "    message = f'ID пользователя: {userId}, id поста: {postId}, заголовок: {title}, наполнение: {body}'\n",
        "    print(message)\n",
        "\n",
        "\n",
        "posts_id = int(input('введите id поста: '))\n",
        "main_info(post_info(posts_id))\n",
        "\n",
        "\n",
        "\n"
      ],
      "metadata": {
        "id": "YANQx4o258Zn",
        "colab": {
          "base_uri": "https://localhost:8080/"
        },
        "outputId": "a6a0a3a3-0e31-4f42-c259-31a1b5034f26"
      },
      "execution_count": null,
      "outputs": [
        {
          "output_type": "stream",
          "name": "stdout",
          "text": [
            "введите id поста: 23\n",
            "ID пользователя: 3, id поста: 23, заголовок: maxime id vitae nihil numquam, наполнение: veritatis unde neque eligendi\n",
            "quae quod architecto quo neque vitae\n",
            "est illo sit tempora doloremque fugit quod\n",
            "et et vel beatae sequi ullam sed tenetur perspiciatis\n"
          ]
        }
      ]
    },
    {
      "cell_type": "markdown",
      "source": [
        "## Задание 4. HTTP-запросы, ответы и работа с постами"
      ],
      "metadata": {
        "id": "rtwepQvJDy9N"
      }
    },
    {
      "cell_type": "code",
      "source": [],
      "metadata": {
        "id": "SKhr8N9sa6D2"
      },
      "execution_count": null,
      "outputs": []
    },
    {
      "cell_type": "markdown",
      "source": [
        "**Описание**\n",
        "\n",
        "Создайте программу, которая будет взаимодействовать с JSONPlaceholder API (из предыдущего задания), реализуя новые функции:\n",
        "\n",
        "1. Реализуйте функцию, которая принимает заголовок, содержимое и ID пользователя (информация вводится с помощью input()), выполняет POST-запрос для создания нового поста и возвращает информацию о созданном посте в формате JSON\n",
        "\n",
        "\n",
        "```\n",
        "Заголовок: Новый пост\n",
        "Содержимое поста: Тут должно находиться содержимое нового поста...\n",
        "ID пользователя: 10\n",
        "```\n",
        "\n",
        "\n",
        "\n",
        "2. Реализуйте функцию, которая принимает ID поста, новый заголовок и новое содержимое, выполняет PUT-запрос и возвращает обновлённый пост в формате JSON\n",
        "\n",
        "3. Реализуйте функцию, которая принимает ID поста, выполняет DELETE-запрос и возвращает статус-код ответа"
      ],
      "metadata": {
        "id": "4MjiaxDM58ta"
      }
    },
    {
      "cell_type": "code",
      "source": [
        "import requests\n",
        "\n",
        "\n",
        "url = 'https://jsonplaceholder.typicode.com/posts/'\n",
        "\n",
        "my_post = {}\n",
        "\n",
        "command = input('1 - создать новый пост, 2  - изменить существующий,\\\n",
        "3 - удалить пост: ')\n",
        "\n",
        "\n",
        "def send_request(url):\n",
        "\n",
        "    response = requests.get(url)\n",
        "\n",
        "    if response.status_code == 200:\n",
        "        return response.json()\n",
        "\n",
        "########################## МЕТОДЫ ##############################################\n",
        "def create_post(my_post):\n",
        "\n",
        "    post = requests.post('https://jsonplaceholder.typicode.com/posts/',\n",
        "                         data = my_post)\n",
        "\n",
        "    print(post.status_code)\n",
        "    print(post.json)\n",
        "    print(post.json())\n",
        "\n",
        "    return post.json\n",
        "\n",
        "\n",
        "def changed_post(my_post, postID):\n",
        "\n",
        "    post = requests.put(f'https://jsonplaceholder.typicode.com/posts/{postID}',\n",
        "                        data = my_post)\n",
        "\n",
        "    print(post.status_code)\n",
        "    print(post.json())\n",
        "\n",
        "    return post.json\n",
        "\n",
        "\n",
        "def delete_post(postID):\n",
        "\n",
        "    post=requests.delete(f'https://jsonplaceholder.typicode.com/posts/{postID}')\n",
        "\n",
        "    print(post.status_code)\n",
        "\n",
        "################################################################################\n",
        "\n",
        "if command == '1':\n",
        "\n",
        "    title = input('Заголовок: ')\n",
        "    body = input('Содержимое поста: ')\n",
        "    userID = int(input('ID пользователя: '))\n",
        "\n",
        "    my_post[\"userId\"] = userID\n",
        "    my_post[\"title\"] = title\n",
        "    my_post['body'] = body\n",
        "\n",
        "    create_post(my_post)\n",
        "\n",
        "elif command == '2':\n",
        "\n",
        "    new_title = input('Заголовок: ')\n",
        "    new_body = input('Содержимое поста: ')\n",
        "    postID = int(input('ID поста: '))\n",
        "\n",
        "\n",
        "    my_post[\"title\"] = new_title\n",
        "    my_post['body'] = new_body\n",
        "\n",
        "    changed_post(my_post, postID)\n",
        "\n",
        "\n",
        "elif command == '3':\n",
        "\n",
        "    postID = int(input('ID поста: '))\n",
        "\n",
        "    delete_post(postID)"
      ],
      "metadata": {
        "id": "jZUIdwq96DNl",
        "colab": {
          "base_uri": "https://localhost:8080/"
        },
        "outputId": "ad03d9dc-e3a2-4593-e8e0-dfb83a98b3d7"
      },
      "execution_count": null,
      "outputs": [
        {
          "output_type": "stream",
          "name": "stdout",
          "text": [
            "1 - создать новый пост, 2  - изменить существующий,3 - удалить пост: 3\n",
            "ID поста: 23\n",
            "200\n"
          ]
        }
      ]
    },
    {
      "cell_type": "markdown",
      "source": [
        "## Задание 5. HTTP-запросы, ответы и пёсики"
      ],
      "metadata": {
        "id": "0UoRc9vOD3XT"
      }
    },
    {
      "cell_type": "markdown",
      "source": [
        "**Описание**\n",
        "\n",
        "Создайте программу, которая будет взаимодействовать с Dog API, которая позволит получать список пород собак, вводить несколько пород и получать их фотогрфии.\n",
        "\n",
        "Этапы:\n",
        "\n",
        "1. Создайте функцию, которая использует метод GET и возвращает список всех пород собак в формате нумерованного списка\n",
        "\n",
        "2. Реализуйте возможность ввода нескольких пород собак через запятую\n",
        "\n",
        "\n",
        "```\n",
        "african, chow, dingo\n",
        "```\n",
        "\n",
        "\n",
        "\n",
        "3. Создание функции, которая реализует запрос, возвращает и выводит изображениия собак, породы которых были введены до этого\n",
        "\n",
        "\n",
        "Используйте Dog API (https://dog.ceo/dog-api/), который предоставляет информацию о породах собак и их изображения.\n"
      ],
      "metadata": {
        "id": "y0EyPsFQ6mSZ"
      }
    },
    {
      "cell_type": "markdown",
      "source": [
        "*Подсказка*\n",
        "\n",
        "\n",
        "\n",
        "```\n",
        "import requests\n",
        "from PIL import Image\n",
        "from IPython.display import display\n",
        "import io\n",
        "\n",
        "url = <____>\n",
        "response = <____>\n",
        "        \n",
        "if response.<______> == <___>:\n",
        "      image_url = response.json()['message']\n",
        "\n",
        "res = requests.<__>(image_url)\n",
        "img = Image.open(io.BytesIO(res.content))\n",
        "display(img)\n",
        "```\n",
        "\n"
      ],
      "metadata": {
        "id": "yrKv5k13AKEP"
      }
    },
    {
      "cell_type": "code",
      "source": [
        "from PIL import Image\n",
        "from IPython.display import display\n",
        "import io\n",
        "import requests\n",
        "\n",
        "\n",
        "url_breeds = 'https://dog.ceo/api/breeds/list/all'\n",
        "k = 0\n",
        "\n",
        "def send_request(url):\n",
        "\n",
        "    response = requests.get(url)\n",
        "\n",
        "    if response.status_code == 200:\n",
        "\n",
        "        return response.json()['message']\n",
        "\n",
        "def send_requestImage(name_breeds):\n",
        "\n",
        "    for breeds in name_breeds:\n",
        "        url = f'https://dog.ceo/api/breed/{breeds}/images'\n",
        "        response = requests.get(url)\n",
        "\n",
        "        if response.status_code == 200:\n",
        "            image_url = response.json()['message']\n",
        "\n",
        "        for breeds in name_breeds:\n",
        "            for k in image_url:\n",
        "\n",
        "                if breeds in k:\n",
        "                    print(breeds)\n",
        "\n",
        "                    res = requests.get(k)\n",
        "                    img = Image.open(io.BytesIO(res.content))\n",
        "\n",
        "                    display(img)\n",
        "                    break\n",
        "\n",
        "\n",
        "\n",
        "\n",
        "breeds = send_request(url_breeds)\n",
        "command = int(input('вывести список копрод - 1,\\\n",
        "показать фотографии пород - 2 '))\n",
        "\n",
        "if command == 1:\n",
        "\n",
        "    for key in breeds.keys():\n",
        "        k+= 1\n",
        "        print(f'{k}: {key}')\n",
        "\n",
        "elif command == 2:\n",
        "\n",
        "    name_breeds = input('введите породы собак: ')\n",
        "    name_breeds = name_breeds.split(', ')\n",
        "    send_requestImage(name_breeds )"
      ],
      "metadata": {
        "id": "5xti3KRP4Kzp",
        "colab": {
          "base_uri": "https://localhost:8080/"
        },
        "outputId": "9af2665c-4f63-4ec3-9d94-5bb58f3c4a4c"
      },
      "execution_count": null,
      "outputs": [
        {
          "output_type": "stream",
          "name": "stdout",
          "text": [
            "вывести список копрод - 1,показать фотографии пород - 2 1\n",
            "1: affenpinscher\n",
            "2: african\n",
            "3: airedale\n",
            "4: akita\n",
            "5: appenzeller\n",
            "6: australian\n",
            "7: bakharwal\n",
            "8: basenji\n",
            "9: beagle\n",
            "10: bluetick\n",
            "11: borzoi\n",
            "12: bouvier\n",
            "13: boxer\n",
            "14: brabancon\n",
            "15: briard\n",
            "16: buhund\n",
            "17: bulldog\n",
            "18: bullterrier\n",
            "19: cattledog\n",
            "20: cavapoo\n",
            "21: chihuahua\n",
            "22: chippiparai\n",
            "23: chow\n",
            "24: clumber\n",
            "25: cockapoo\n",
            "26: collie\n",
            "27: coonhound\n",
            "28: corgi\n",
            "29: cotondetulear\n",
            "30: dachshund\n",
            "31: dalmatian\n",
            "32: dane\n",
            "33: danish\n",
            "34: deerhound\n",
            "35: dhole\n",
            "36: dingo\n",
            "37: doberman\n",
            "38: elkhound\n",
            "39: entlebucher\n",
            "40: eskimo\n",
            "41: finnish\n",
            "42: frise\n",
            "43: gaddi\n",
            "44: germanshepherd\n",
            "45: greyhound\n",
            "46: groenendael\n",
            "47: havanese\n",
            "48: hound\n",
            "49: husky\n",
            "50: keeshond\n",
            "51: kelpie\n",
            "52: kombai\n",
            "53: komondor\n",
            "54: kuvasz\n",
            "55: labradoodle\n",
            "56: labrador\n",
            "57: leonberg\n",
            "58: lhasa\n",
            "59: malamute\n",
            "60: malinois\n",
            "61: maltese\n",
            "62: mastiff\n",
            "63: mexicanhairless\n",
            "64: mix\n",
            "65: mountain\n",
            "66: mudhol\n",
            "67: newfoundland\n",
            "68: otterhound\n",
            "69: ovcharka\n",
            "70: papillon\n",
            "71: pariah\n",
            "72: pekinese\n",
            "73: pembroke\n",
            "74: pinscher\n",
            "75: pitbull\n",
            "76: pointer\n",
            "77: pomeranian\n",
            "78: poodle\n",
            "79: pug\n",
            "80: puggle\n",
            "81: pyrenees\n",
            "82: rajapalayam\n",
            "83: redbone\n",
            "84: retriever\n",
            "85: ridgeback\n",
            "86: rottweiler\n",
            "87: saluki\n",
            "88: samoyed\n",
            "89: schipperke\n",
            "90: schnauzer\n",
            "91: segugio\n",
            "92: setter\n",
            "93: sharpei\n",
            "94: sheepdog\n",
            "95: shiba\n",
            "96: shihtzu\n",
            "97: spaniel\n",
            "98: spitz\n",
            "99: springer\n",
            "100: stbernard\n",
            "101: terrier\n",
            "102: tervuren\n",
            "103: vizsla\n",
            "104: waterdog\n",
            "105: weimaraner\n",
            "106: whippet\n",
            "107: wolfhound\n"
          ]
        }
      ]
    }
  ]
}